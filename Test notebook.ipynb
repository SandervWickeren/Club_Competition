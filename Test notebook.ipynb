{
 "cells": [
  {
   "cell_type": "code",
   "execution_count": 1,
   "metadata": {},
   "outputs": [],
   "source": [
    "import urllib.request\n",
    "from bs4 import BeautifulSoup\n",
    "import html\n",
    "\n",
    "def get_webpage(link):\n",
    "\n",
    "    req = urllib.request.urlopen(link)\n",
    "    bytes = req.read()\n",
    "\n",
    "    string = bytes.decode('utf8')\n",
    "    req.close()\n",
    "\n",
    "    return BeautifulSoup(string, 'html.parser')"
   ]
  },
  {
   "cell_type": "code",
   "execution_count": 3,
   "metadata": {
    "collapsed": true
   },
   "outputs": [],
   "source": [
    "def run():\n",
    "    link = \"https://badmintonnederland.toernooi.nl/sport/drawmatches.aspx?id=F3C6D619-32F6-4C2A-8506-798D7493D668&draw=73\"\n",
    "    soup = get_webpage(link)\n",
    "    print(get_matches(soup))\n"
   ]
  },
  {
   "cell_type": "code",
   "execution_count": 4,
   "metadata": {
    "collapsed": true
   },
   "outputs": [],
   "source": [
    "def get_matches(soup):\n",
    "    table = soup.findAll('table', {\"class\": \"ruler matches\"}, 'tr')\n",
    "    #tablerows = table.findAll('tr')\n",
    "    return table[1]"
   ]
  },
  {
   "cell_type": "code",
   "execution_count": 5,
   "metadata": {
    "collapsed": true
   },
   "outputs": [],
   "source": [
    "link = \"https://badmintonnederland.toernooi.nl/sport/draw.aspx?id=F3C6D619-32F6-4C2A-8506-798D7493D668&draw=73\"\n",
    "soup = get_webpage(link)"
   ]
  },
  {
   "cell_type": "code",
   "execution_count": 6,
   "metadata": {},
   "outputs": [
    {
     "data": {
      "text/plain": [
       "[<tr class=\"poulestandings\">\n",
       " <td></td><td></td><td>Punten</td><td>Gespeeld</td><td>Gewonnen</td><td>Gelijk</td><td>Verloren</td><td colspan=\"3\">Wedstrijden</td><td colspan=\"3\">Games</td><td colspan=\"3\">Punten</td>\n",
       " </tr>, <tr>\n",
       " <td class=\"standingsrank\">1</td><td><a href=\"/sport/team.aspx?id=F3C6D619-32F6-4C2A-8506-798D7493D668&amp;team=566\">IJMOND BC 4</a></td><td align=\"center\">21</td><td align=\"center\">4</td><td align=\"center\">3</td><td align=\"center\">1</td><td align=\"center\">0</td><td align=\"right\" class=\"score\">21</td><td align=\"center\" class=\"separator\">-</td><td align=\"left\" class=\"score\">11</td><td align=\"right\" class=\"score\">43</td><td align=\"center\" class=\"separator\">-</td><td align=\"left\" class=\"score\">28</td><td align=\"right\" class=\"score\">1343</td><td align=\"center\" class=\"separator\">-</td><td align=\"left\" class=\"score\">1180</td>\n",
       " </tr>, <tr>\n",
       " <td class=\"standingsrank\">2</td><td><a href=\"/sport/team.aspx?id=F3C6D619-32F6-4C2A-8506-798D7493D668&amp;team=505\">HILLEGOM BC 7</a></td><td align=\"center\">19</td><td align=\"center\">3</td><td align=\"center\">3</td><td align=\"center\">0</td><td align=\"center\">0</td><td align=\"right\" class=\"score\">19</td><td align=\"center\" class=\"separator\">-</td><td align=\"left\" class=\"score\">5</td><td align=\"right\" class=\"score\">39</td><td align=\"center\" class=\"separator\">-</td><td align=\"left\" class=\"score\">18</td><td align=\"right\" class=\"score\">1080</td><td align=\"center\" class=\"separator\">-</td><td align=\"left\" class=\"score\">952</td>\n",
       " </tr>, <tr>\n",
       " <td class=\"standingsrank\">3</td><td><a href=\"/sport/team.aspx?id=F3C6D619-32F6-4C2A-8506-798D7493D668&amp;team=41\">ALMERE BV 17</a></td><td align=\"center\">19</td><td align=\"center\">4</td><td align=\"center\">2</td><td align=\"center\">1</td><td align=\"center\">1</td><td align=\"right\" class=\"score\">19</td><td align=\"center\" class=\"separator\">-</td><td align=\"left\" class=\"score\">13</td><td align=\"right\" class=\"score\">41</td><td align=\"center\" class=\"separator\">-</td><td align=\"left\" class=\"score\">30</td><td align=\"right\" class=\"score\">1342</td><td align=\"center\" class=\"separator\">-</td><td align=\"left\" class=\"score\">1241</td>\n",
       " </tr>, <tr>\n",
       " <td class=\"standingsrank\">4</td><td><a href=\"/sport/team.aspx?id=F3C6D619-32F6-4C2A-8506-798D7493D668&amp;team=1072\">SWISH BV 7</a></td><td align=\"center\">12</td><td align=\"center\">3</td><td align=\"center\">1</td><td align=\"center\">0</td><td align=\"center\">2</td><td align=\"right\" class=\"score\">12</td><td align=\"center\" class=\"separator\">-</td><td align=\"left\" class=\"score\">12</td><td align=\"right\" class=\"score\">30</td><td align=\"center\" class=\"separator\">-</td><td align=\"left\" class=\"score\">29</td><td align=\"right\" class=\"score\">1109</td><td align=\"center\" class=\"separator\">-</td><td align=\"left\" class=\"score\">1072</td>\n",
       " </tr>, <tr>\n",
       " <td class=\"standingsrank\">5</td><td><a href=\"/sport/team.aspx?id=F3C6D619-32F6-4C2A-8506-798D7493D668&amp;team=1036\">SPACE SHUTTLE BV 1</a></td><td align=\"center\">10</td><td align=\"center\">4</td><td align=\"center\">1</td><td align=\"center\">0</td><td align=\"center\">3</td><td align=\"right\" class=\"score\">10</td><td align=\"center\" class=\"separator\">-</td><td align=\"left\" class=\"score\">22</td><td align=\"right\" class=\"score\">29</td><td align=\"center\" class=\"separator\">-</td><td align=\"left\" class=\"score\">45</td><td align=\"right\" class=\"score\">1268</td><td align=\"center\" class=\"separator\">-</td><td align=\"left\" class=\"score\">1414</td>\n",
       " </tr>, <tr>\n",
       " <td class=\"standingsrank\">6</td><td><a href=\"/sport/team.aspx?id=F3C6D619-32F6-4C2A-8506-798D7493D668&amp;team=1001\">SLOTERMEER BV 2</a></td><td align=\"center\">9</td><td align=\"center\">3</td><td align=\"center\">1</td><td align=\"center\">0</td><td align=\"center\">2</td><td align=\"right\" class=\"score\">9</td><td align=\"center\" class=\"separator\">-</td><td align=\"left\" class=\"score\">15</td><td align=\"right\" class=\"score\">23</td><td align=\"center\" class=\"separator\">-</td><td align=\"left\" class=\"score\">35</td><td align=\"right\" class=\"score\">1007</td><td align=\"center\" class=\"separator\">-</td><td align=\"left\" class=\"score\">1128</td>\n",
       " </tr>, <tr>\n",
       " <td class=\"standingsrank\">7</td><td><a href=\"/sport/team.aspx?id=F3C6D619-32F6-4C2A-8506-798D7493D668&amp;team=1264\">ZIJDERVELD BV VAN 8</a></td><td align=\"center\">6</td><td align=\"center\">3</td><td align=\"center\">0</td><td align=\"center\">0</td><td align=\"center\">3</td><td align=\"right\" class=\"score\">6</td><td align=\"center\" class=\"separator\">-</td><td align=\"left\" class=\"score\">18</td><td align=\"right\" class=\"score\">17</td><td align=\"center\" class=\"separator\">-</td><td align=\"left\" class=\"score\">37</td><td align=\"right\" class=\"score\">895</td><td align=\"center\" class=\"separator\">-</td><td align=\"left\" class=\"score\">1057</td>\n",
       " </tr>]"
      ]
     },
     "execution_count": 6,
     "metadata": {},
     "output_type": "execute_result"
    }
   ],
   "source": [
    "table = soup.find('table', {\"class\": \"ruler\"}).findAll('tr')\n",
    "table"
   ]
  },
  {
   "cell_type": "code",
   "execution_count": 7,
   "metadata": {},
   "outputs": [
    {
     "data": {
      "text/plain": [
       "bs4.element.ResultSet"
      ]
     },
     "execution_count": 7,
     "metadata": {},
     "output_type": "execute_result"
    }
   ],
   "source": [
    "type(table)"
   ]
  },
  {
   "cell_type": "code",
   "execution_count": 8,
   "metadata": {},
   "outputs": [
    {
     "data": {
      "text/plain": [
       "<tr class=\"poulestandings\">\n",
       "<td></td><td></td><td>Punten</td><td>Gespeeld</td><td>Gewonnen</td><td>Gelijk</td><td>Verloren</td><td colspan=\"3\">Wedstrijden</td><td colspan=\"3\">Games</td><td colspan=\"3\">Punten</td>\n",
       "</tr>"
      ]
     },
     "execution_count": 8,
     "metadata": {},
     "output_type": "execute_result"
    }
   ],
   "source": [
    "rows = soup.table.findAll('tr')[0]\n",
    "rows"
   ]
  },
  {
   "cell_type": "code",
   "execution_count": 9,
   "metadata": {},
   "outputs": [
    {
     "data": {
      "text/plain": [
       "[<td></td>,\n",
       " <td></td>,\n",
       " <td>Punten</td>,\n",
       " <td>Gespeeld</td>,\n",
       " <td>Gewonnen</td>,\n",
       " <td>Gelijk</td>,\n",
       " <td>Verloren</td>,\n",
       " <td colspan=\"3\">Wedstrijden</td>,\n",
       " <td colspan=\"3\">Games</td>,\n",
       " <td colspan=\"3\">Punten</td>]"
      ]
     },
     "execution_count": 9,
     "metadata": {},
     "output_type": "execute_result"
    }
   ],
   "source": [
    "col = rows.findAll('td')\n",
    "col    "
   ]
  },
  {
   "cell_type": "code",
   "execution_count": 12,
   "metadata": {},
   "outputs": [
    {
     "ename": "AttributeError",
     "evalue": "'NoneType' object has no attribute 'get_text'",
     "output_type": "error",
     "traceback": [
      "\u001b[1;31m---------------------------------------------------------------------------\u001b[0m",
      "\u001b[1;31mAttributeError\u001b[0m                            Traceback (most recent call last)",
      "\u001b[1;32m<ipython-input-12-1dd80e0b4bd2>\u001b[0m in \u001b[0;36m<module>\u001b[1;34m()\u001b[0m\n\u001b[1;32m----> 1\u001b[1;33m \u001b[0mtime\u001b[0m \u001b[1;33m=\u001b[0m \u001b[0mrows\u001b[0m\u001b[1;33m.\u001b[0m\u001b[0mfind\u001b[0m\u001b[1;33m(\u001b[0m\u001b[1;34m'td'\u001b[0m\u001b[1;33m,\u001b[0m \u001b[1;33m{\u001b[0m\u001b[1;34m\"class\"\u001b[0m\u001b[1;33m:\u001b[0m\u001b[1;34m\"plannedtime\"\u001b[0m\u001b[1;33m}\u001b[0m\u001b[1;33m)\u001b[0m\u001b[1;33m.\u001b[0m\u001b[0mget_text\u001b[0m\u001b[1;33m(\u001b[0m\u001b[1;33m)\u001b[0m\u001b[1;33m\u001b[0m\u001b[0m\n\u001b[0m\u001b[0;32m      2\u001b[0m \u001b[0mtime\u001b[0m\u001b[1;33m\u001b[0m\u001b[0m\n",
      "\u001b[1;31mAttributeError\u001b[0m: 'NoneType' object has no attribute 'get_text'"
     ]
    }
   ],
   "source": [
    "time = rows.find('td', {\"class\":\"plannedtime\"}).get_text()\n",
    "time"
   ]
  },
  {
   "cell_type": "code",
   "execution_count": 11,
   "metadata": {},
   "outputs": [
    {
     "ename": "IndexError",
     "evalue": "list index out of range",
     "output_type": "error",
     "traceback": [
      "\u001b[1;31m---------------------------------------------------------------------------\u001b[0m",
      "\u001b[1;31mIndexError\u001b[0m                                Traceback (most recent call last)",
      "\u001b[1;32m<ipython-input-11-6e1daa25bb2e>\u001b[0m in \u001b[0;36m<module>\u001b[1;34m()\u001b[0m\n\u001b[1;32m----> 1\u001b[1;33m \u001b[0mhome\u001b[0m \u001b[1;33m=\u001b[0m \u001b[0mrows\u001b[0m\u001b[1;33m.\u001b[0m\u001b[0mfindAll\u001b[0m\u001b[1;33m(\u001b[0m\u001b[1;34m'a'\u001b[0m\u001b[1;33m,\u001b[0m \u001b[1;33m{\u001b[0m\u001b[1;34m\"class\"\u001b[0m\u001b[1;33m:\u001b[0m\u001b[1;34m\"teamname\"\u001b[0m\u001b[1;33m}\u001b[0m\u001b[1;33m)\u001b[0m\u001b[1;33m[\u001b[0m\u001b[1;36m0\u001b[0m\u001b[1;33m]\u001b[0m\u001b[1;33m.\u001b[0m\u001b[0mget_text\u001b[0m\u001b[1;33m(\u001b[0m\u001b[1;33m)\u001b[0m\u001b[1;33m\u001b[0m\u001b[0m\n\u001b[0m\u001b[0;32m      2\u001b[0m \u001b[0maway\u001b[0m \u001b[1;33m=\u001b[0m \u001b[0mrows\u001b[0m\u001b[1;33m.\u001b[0m\u001b[0mfindAll\u001b[0m\u001b[1;33m(\u001b[0m\u001b[1;34m'a'\u001b[0m\u001b[1;33m,\u001b[0m \u001b[1;33m{\u001b[0m\u001b[1;34m\"class\"\u001b[0m\u001b[1;33m:\u001b[0m\u001b[1;34m\"teamname\"\u001b[0m\u001b[1;33m}\u001b[0m\u001b[1;33m)\u001b[0m\u001b[1;33m[\u001b[0m\u001b[1;36m1\u001b[0m\u001b[1;33m]\u001b[0m\u001b[1;33m.\u001b[0m\u001b[0mget_text\u001b[0m\u001b[1;33m(\u001b[0m\u001b[1;33m)\u001b[0m\u001b[1;33m\u001b[0m\u001b[0m\n\u001b[0;32m      3\u001b[0m \u001b[0mhome\u001b[0m\u001b[1;33m,\u001b[0m \u001b[0maway\u001b[0m\u001b[1;33m\u001b[0m\u001b[0m\n",
      "\u001b[1;31mIndexError\u001b[0m: list index out of range"
     ]
    }
   ],
   "source": [
    "home = rows.findAll('a', {\"class\":\"teamname\"})[0].get_text()\n",
    "away = rows.findAll('a', {\"class\":\"teamname\"})[1].get_text()\n",
    "home, away"
   ]
  },
  {
   "cell_type": "code",
   "execution_count": 13,
   "metadata": {},
   "outputs": [
    {
     "data": {
      "text/plain": [
       "''"
      ]
     },
     "execution_count": 13,
     "metadata": {},
     "output_type": "execute_result"
    }
   ],
   "source": [
    "try:\n",
    "    score = rows.find('span', {\"class\":\"score\"}).get_text()\n",
    "except:\n",
    "    score = \"\"\n",
    "score"
   ]
  },
  {
   "cell_type": "code",
   "execution_count": 14,
   "metadata": {},
   "outputs": [
    {
     "ename": "IndexError",
     "evalue": "list index out of range",
     "output_type": "error",
     "traceback": [
      "\u001b[1;31m---------------------------------------------------------------------------\u001b[0m",
      "\u001b[1;31mIndexError\u001b[0m                                Traceback (most recent call last)",
      "\u001b[1;32m<ipython-input-14-da5af135e7e1>\u001b[0m in \u001b[0;36m<module>\u001b[1;34m()\u001b[0m\n\u001b[1;32m----> 1\u001b[1;33m \u001b[0mlocation_link\u001b[0m \u001b[1;33m=\u001b[0m \u001b[0mrows\u001b[0m\u001b[1;33m.\u001b[0m\u001b[0mfindAll\u001b[0m\u001b[1;33m(\u001b[0m\u001b[1;34m'a'\u001b[0m\u001b[1;33m)\u001b[0m\u001b[1;33m[\u001b[0m\u001b[1;33m-\u001b[0m\u001b[1;36m1\u001b[0m\u001b[1;33m]\u001b[0m\u001b[1;33m[\u001b[0m\u001b[1;34m'href'\u001b[0m\u001b[1;33m]\u001b[0m\u001b[1;33m\u001b[0m\u001b[0m\n\u001b[0m\u001b[0;32m      2\u001b[0m \u001b[0mlocation_link\u001b[0m\u001b[1;33m\u001b[0m\u001b[0m\n",
      "\u001b[1;31mIndexError\u001b[0m: list index out of range"
     ]
    }
   ],
   "source": [
    "location_link = rows.findAll('a')[-1]['href']\n",
    "location_link"
   ]
  },
  {
   "cell_type": "code",
   "execution_count": 15,
   "metadata": {},
   "outputs": [
    {
     "data": {
      "text/plain": [
       "<tr class=\"poulestandings\">\n",
       "<td></td><td></td><td>Punten</td><td>Gespeeld</td><td>Gewonnen</td><td>Gelijk</td><td>Verloren</td><td colspan=\"3\">Wedstrijden</td><td colspan=\"3\">Games</td><td colspan=\"3\">Punten</td>\n",
       "</tr>"
      ]
     },
     "execution_count": 15,
     "metadata": {},
     "output_type": "execute_result"
    }
   ],
   "source": [
    "rows2 = soup.find('table', {\"class\": \"ruler\"}).findAll('tr')[0]\n",
    "rows2"
   ]
  },
  {
   "cell_type": "code",
   "execution_count": 16,
   "metadata": {},
   "outputs": [
    {
     "ename": "AttributeError",
     "evalue": "'NoneType' object has no attribute 'get_text'",
     "output_type": "error",
     "traceback": [
      "\u001b[1;31m---------------------------------------------------------------------------\u001b[0m",
      "\u001b[1;31mAttributeError\u001b[0m                            Traceback (most recent call last)",
      "\u001b[1;32m<ipython-input-16-c52d1b85e6cd>\u001b[0m in \u001b[0;36m<module>\u001b[1;34m()\u001b[0m\n\u001b[1;32m----> 1\u001b[1;33m \u001b[0mrank\u001b[0m \u001b[1;33m=\u001b[0m \u001b[0mrows2\u001b[0m\u001b[1;33m.\u001b[0m\u001b[0mfind\u001b[0m\u001b[1;33m(\u001b[0m\u001b[1;34m'td'\u001b[0m\u001b[1;33m,\u001b[0m \u001b[1;33m{\u001b[0m\u001b[1;34m\"class\"\u001b[0m\u001b[1;33m:\u001b[0m\u001b[1;34m\"standingsrank\"\u001b[0m\u001b[1;33m}\u001b[0m\u001b[1;33m)\u001b[0m\u001b[1;33m.\u001b[0m\u001b[0mget_text\u001b[0m\u001b[1;33m(\u001b[0m\u001b[1;33m)\u001b[0m\u001b[1;33m\u001b[0m\u001b[0m\n\u001b[0m\u001b[0;32m      2\u001b[0m \u001b[0mrank\u001b[0m\u001b[1;33m\u001b[0m\u001b[0m\n",
      "\u001b[1;31mAttributeError\u001b[0m: 'NoneType' object has no attribute 'get_text'"
     ]
    }
   ],
   "source": [
    "rank = rows2.find('td', {\"class\":\"standingsrank\"}).get_text()\n",
    "rank"
   ]
  },
  {
   "cell_type": "code",
   "execution_count": null,
   "metadata": {
    "collapsed": true
   },
   "outputs": [],
   "source": [
    "team = rows2.find('a').get_text()\n",
    "team"
   ]
  },
  {
   "cell_type": "code",
   "execution_count": null,
   "metadata": {
    "collapsed": true
   },
   "outputs": [],
   "source": [
    "scores = rows2.findAll('td', {\"align\":\"center\"})\n",
    "points = scores[0].get_text()\n",
    "played = scores[1].get_text()\n"
   ]
  },
  {
   "cell_type": "code",
   "execution_count": 26,
   "metadata": {},
   "outputs": [
    {
     "data": {
      "text/plain": [
       "'6e divisie'"
      ]
     },
     "execution_count": 26,
     "metadata": {},
     "output_type": "execute_result"
    }
   ],
   "source": [
    "\" \".join(soup.findAll(\"div\", {\"class\":\"title\"})[0].get_text().split()[:2])"
   ]
  },
  {
   "cell_type": "code",
   "execution_count": 73,
   "metadata": {},
   "outputs": [],
   "source": [
    "def get_webpage(link):\n",
    "\n",
    "    req = urllib.request.urlopen(link)\n",
    "    bytes = req.read()\n",
    "\n",
    "    string = bytes.decode('utf8')\n",
    "    req.close()\n",
    "\n",
    "    return BeautifulSoup(string, 'html.parser')\n",
    "\n",
    "def get_matches(soup):\n",
    "\n",
    "    # Get the rows containing the information\n",
    "    rows = soup.table.findAll('tr')\n",
    "    \n",
    "\n",
    "    matches = []\n",
    "    for row in rows[1:]:\n",
    "        matches.append(strip_match_col(row))\n",
    "\n",
    "    return {\"matches\": matches}\n",
    "\n",
    "def match():\n",
    "    link = \"https://badmintonnederland.toernooi.nl/sport/drawmatches.aspx?id=F3C6D619-32F6-4C2A-8506-798D7493D668&draw=73\"\n",
    "    soup = get_webpage(link)\n",
    "    return get_matches(soup)\n",
    "\n",
    "def strip_match_col(rows):\n",
    "    time = rows.find('td', {\"class\":\"plannedtime\"}).get_text()\n",
    "    home = rows.findAll('a', {\"class\":\"teamname\"})[0].get_text()\n",
    "    away = rows.findAll('a', {\"class\":\"teamname\"})[1].get_text()\n",
    "    \n",
    "    # Retrieves location id\n",
    "    location_link = rows.findAll('a')[-1]['href']\n",
    "    regexl = re.search(\"lid=[\\d]+\", str(location_link))\n",
    "    locID = regexl.group().split(\"=\")[-1]\n",
    "    \n",
    "    # Retrieves game id\n",
    "    regex = re.search(\"match=[\\d]+\", str(rows))\n",
    "    gameID = regex.group().split(\"=\")[-1]\n",
    "\n",
    "    try:\n",
    "        score = rows.find('span', {\"class\":\"score\"}).get_text()\n",
    "    except:\n",
    "        score = \"\"\n",
    "\n",
    "    return {\"time\": time, \"home\": home,\"away\": away, \"score\": score,\"locationid\": locID, \"gameid\":gameID}"
   ]
  },
  {
   "cell_type": "code",
   "execution_count": 49,
   "metadata": {},
   "outputs": [
    {
     "name": "stdout",
     "output_type": "stream",
     "text": [
      "Ed\n",
      "Herman\n",
      "Dennis\n",
      "Marieke\n",
      "Lisa\n"
     ]
    }
   ],
   "source": [
    "a = get_webpage(\"https://badmintonnederland.toernooi.nl/sport/teamplayers.aspx?id=F3C6D619-32F6-4C2A-8506-798D7493D668&tid=503\")\n",
    "players = a.table.tr.findAll('tr')\n",
    "\n",
    "#for x in players:\n",
    " #   name = x.get_text().split(\" \")\n",
    "  #  \n",
    "   # print(name[1])\n",
    "\n",
    "for x in players:\n",
    "        \n",
    "    # Gets basic info for every person in a list\n",
    "    info = x.get_text(\" \").split(\" \")[1:-1]\n",
    "    \n",
    "    \n",
    "    \n",
    "    # Discard player if not a regular player\n",
    "    if info[-1] == \"Ja\":\n",
    "        \n",
    "        # Retrieve only the surname.\n",
    "        name = list(reversed(info[0:-2]))[0]\n",
    "        print(name)\n"
   ]
  },
  {
   "cell_type": "code",
   "execution_count": 52,
   "metadata": {},
   "outputs": [
    {
     "name": "stdout",
     "output_type": "stream",
     "text": [
      "['Ed', 'Herman', 'Dennis', 'Marieke', 'Lisa']\n"
     ]
    }
   ],
   "source": [
    "def get_players(soup):\n",
    "    \"\"\"\n",
    "    Takes soup of a player page as input and gives a list\n",
    "    of surnames as output.\n",
    "    (teamplayers.aspx)\n",
    "    \"\"\"\n",
    "    players = soup.table.tr.findAll(\"tr\")\n",
    "    names = []\n",
    "\n",
    "    for player in players:\n",
    "\n",
    "        # Gets basic info for every person in a list\n",
    "        info = player.get_text(\" \").split(\" \")[1:-1]\n",
    "        \n",
    "        # Discard player if not a regular player\n",
    "        if info[-1] == \"Ja\":\n",
    "            \n",
    "            # Retrieve only the surname.\n",
    "            name = list(reversed(info[0:-2]))[0]\n",
    "            names.append(name)\n",
    "            \n",
    "    return names\n",
    "\n",
    "print(get_players(a))"
   ]
  },
  {
   "cell_type": "code",
   "execution_count": 74,
   "metadata": {},
   "outputs": [
    {
     "data": {
      "text/plain": [
       "{'matches': [{'time': 'do 13-9-2018 20:00',\n",
       "   'home': 'IJMOND BC 4',\n",
       "   'away': 'ZIJDERVELD BV VAN 8',\n",
       "   'score': '6-2',\n",
       "   'locationid': '227',\n",
       "   'gameid': '4628'},\n",
       "  {'time': 'zo 16-9-2018 09:30',\n",
       "   'home': 'SPACE SHUTTLE BV 1',\n",
       "   'away': 'ALMERE BV 17',\n",
       "   'score': '2-6',\n",
       "   'locationid': '425',\n",
       "   'gameid': '4650'},\n",
       "  {'time': 'zo 16-9-2018 10:00',\n",
       "   'home': 'HILLEGOM BC 7',\n",
       "   'away': 'SLOTERMEER BV 2',\n",
       "   'score': '6-2',\n",
       "   'locationid': '210',\n",
       "   'gameid': '4619'},\n",
       "  {'time': 'za 22-9-2018 19:00',\n",
       "   'home': 'ALMERE BV 17',\n",
       "   'away': 'IJMOND BC 4',\n",
       "   'score': '4-4',\n",
       "   'locationid': '13',\n",
       "   'gameid': '4656'},\n",
       "  {'time': 'zo 23-9-2018 09:30',\n",
       "   'home': 'SPACE SHUTTLE BV 1',\n",
       "   'away': 'SWISH BV 7',\n",
       "   'score': '5-3',\n",
       "   'locationid': '425',\n",
       "   'gameid': '4672'},\n",
       "  {'time': 'zo 23-9-2018 14:00',\n",
       "   'home': 'SLOTERMEER BV 2',\n",
       "   'away': 'ZIJDERVELD BV VAN 8',\n",
       "   'score': '5-3',\n",
       "   'locationid': '412',\n",
       "   'gameid': '4624'},\n",
       "  {'time': 'do 27-9-2018 20:00',\n",
       "   'home': 'IJMOND BC 4',\n",
       "   'away': 'SLOTERMEER BV 2',\n",
       "   'score': '6-2',\n",
       "   'locationid': '227',\n",
       "   'gameid': '4621'},\n",
       "  {'time': 'zo 30-9-2018 10:00',\n",
       "   'home': 'HILLEGOM BC 7',\n",
       "   'away': 'SPACE SHUTTLE BV 1',\n",
       "   'score': '8-0',\n",
       "   'locationid': '210',\n",
       "   'gameid': '4662'},\n",
       "  {'time': 'zo 30-9-2018 13:15',\n",
       "   'home': 'SWISH BV 7',\n",
       "   'away': 'ALMERE BV 17',\n",
       "   'score': '6-2',\n",
       "   'locationid': '440',\n",
       "   'gameid': '4651'},\n",
       "  {'time': 'zo 7-10-2018 09:30',\n",
       "   'home': 'SPACE SHUTTLE BV 1',\n",
       "   'away': 'IJMOND BC 4',\n",
       "   'score': '3-5',\n",
       "   'locationid': '425',\n",
       "   'gameid': '4657'},\n",
       "  {'time': 'zo 7-10-2018 13:15',\n",
       "   'home': 'SWISH BV 7',\n",
       "   'away': 'HILLEGOM BC 7',\n",
       "   'score': '3-5',\n",
       "   'locationid': '440',\n",
       "   'gameid': '4644'},\n",
       "  {'time': 'zo 7-10-2018 13:30',\n",
       "   'home': 'ALMERE BV 17',\n",
       "   'away': 'ZIJDERVELD BV VAN 8',\n",
       "   'score': '7-1',\n",
       "   'locationid': '13',\n",
       "   'gameid': '4627'},\n",
       "  {'time': 'za 3-11-2018 18:00',\n",
       "   'home': 'ZIJDERVELD BV VAN 8',\n",
       "   'away': 'SWISH BV 7',\n",
       "   'score': '',\n",
       "   'locationid': '525',\n",
       "   'gameid': '4667'},\n",
       "  {'time': 'zo 4-11-2018 10:00',\n",
       "   'home': 'HILLEGOM BC 7',\n",
       "   'away': 'ALMERE BV 17',\n",
       "   'score': '',\n",
       "   'locationid': '210',\n",
       "   'gameid': '4648'},\n",
       "  {'time': 'zo 4-11-2018 14:00',\n",
       "   'home': 'SLOTERMEER BV 2',\n",
       "   'away': 'SPACE SHUTTLE BV 1',\n",
       "   'score': '',\n",
       "   'locationid': '412',\n",
       "   'gameid': '4659'},\n",
       "  {'time': 'do 8-11-2018 20:00',\n",
       "   'home': 'IJMOND BC 4',\n",
       "   'away': 'SWISH BV 7',\n",
       "   'score': '',\n",
       "   'locationid': '227',\n",
       "   'gameid': '4671'},\n",
       "  {'time': 'zo 11-11-2018 14:00',\n",
       "   'home': 'SLOTERMEER BV 2',\n",
       "   'away': 'ALMERE BV 17',\n",
       "   'score': '',\n",
       "   'locationid': '412',\n",
       "   'gameid': '4645'},\n",
       "  {'time': 'zo 11-11-2018 14:00',\n",
       "   'home': 'ZIJDERVELD BV VAN 8',\n",
       "   'away': 'HILLEGOM BC 7',\n",
       "   'score': '',\n",
       "   'locationid': '525',\n",
       "   'gameid': '4639'},\n",
       "  {'time': 'zo 18-11-2018 09:30',\n",
       "   'home': 'SPACE SHUTTLE BV 1',\n",
       "   'away': 'ZIJDERVELD BV VAN 8',\n",
       "   'score': '',\n",
       "   'locationid': '425',\n",
       "   'gameid': '4629'},\n",
       "  {'time': 'zo 18-11-2018 10:00',\n",
       "   'home': 'HILLEGOM BC 7',\n",
       "   'away': 'IJMOND BC 4',\n",
       "   'score': '',\n",
       "   'locationid': '210',\n",
       "   'gameid': '4655'},\n",
       "  {'time': 'zo 18-11-2018 13:15',\n",
       "   'home': 'SWISH BV 7',\n",
       "   'away': 'SLOTERMEER BV 2',\n",
       "   'score': '',\n",
       "   'locationid': '440',\n",
       "   'gameid': '4623'},\n",
       "  {'time': 'za 1-12-2018 19:00',\n",
       "   'home': 'ALMERE BV 17',\n",
       "   'away': 'SPACE SHUTTLE BV 1',\n",
       "   'score': '',\n",
       "   'locationid': '13',\n",
       "   'gameid': '4663'},\n",
       "  {'time': 'zo 2-12-2018 14:00',\n",
       "   'home': 'ZIJDERVELD BV VAN 8',\n",
       "   'away': 'IJMOND BC 4',\n",
       "   'score': '',\n",
       "   'locationid': '525',\n",
       "   'gameid': '4653'},\n",
       "  {'time': 'zo 2-12-2018 14:00',\n",
       "   'home': 'SLOTERMEER BV 2',\n",
       "   'away': 'HILLEGOM BC 7',\n",
       "   'score': '',\n",
       "   'locationid': '412',\n",
       "   'gameid': '4638'},\n",
       "  {'time': 'do 6-12-2018 20:00',\n",
       "   'home': 'IJMOND BC 4',\n",
       "   'away': 'ALMERE BV 17',\n",
       "   'score': '',\n",
       "   'locationid': '227',\n",
       "   'gameid': '4649'},\n",
       "  {'time': 'za 8-12-2018 18:00',\n",
       "   'home': 'ZIJDERVELD BV VAN 8',\n",
       "   'away': 'SLOTERMEER BV 2',\n",
       "   'score': '',\n",
       "   'locationid': '525',\n",
       "   'gameid': '4617'},\n",
       "  {'time': 'zo 9-12-2018 14:00',\n",
       "   'home': 'SWISH BV 7',\n",
       "   'away': 'SPACE SHUTTLE BV 1',\n",
       "   'score': '',\n",
       "   'locationid': '440',\n",
       "   'gameid': '4665'},\n",
       "  {'time': 'za 15-12-2018 19:00',\n",
       "   'home': 'ALMERE BV 17',\n",
       "   'away': 'SWISH BV 7',\n",
       "   'score': '',\n",
       "   'locationid': '13',\n",
       "   'gameid': '4670'},\n",
       "  {'time': 'zo 16-12-2018 09:30',\n",
       "   'home': 'SPACE SHUTTLE BV 1',\n",
       "   'away': 'HILLEGOM BC 7',\n",
       "   'score': '',\n",
       "   'locationid': '425',\n",
       "   'gameid': '4643'},\n",
       "  {'time': 'zo 16-12-2018 14:00',\n",
       "   'home': 'SLOTERMEER BV 2',\n",
       "   'away': 'IJMOND BC 4',\n",
       "   'score': '',\n",
       "   'locationid': '412',\n",
       "   'gameid': '4652'},\n",
       "  {'time': 'do 10-1-2019 20:00',\n",
       "   'home': 'IJMOND BC 4',\n",
       "   'away': 'SPACE SHUTTLE BV 1',\n",
       "   'score': '',\n",
       "   'locationid': '227',\n",
       "   'gameid': '4664'},\n",
       "  {'time': 'zo 13-1-2019 10:00',\n",
       "   'home': 'HILLEGOM BC 7',\n",
       "   'away': 'SWISH BV 7',\n",
       "   'score': '',\n",
       "   'locationid': '210',\n",
       "   'gameid': '4669'},\n",
       "  {'time': 'zo 13-1-2019 13:30',\n",
       "   'home': 'ZIJDERVELD BV VAN 8',\n",
       "   'away': 'ALMERE BV 17',\n",
       "   'score': '',\n",
       "   'locationid': '525',\n",
       "   'gameid': '4646'},\n",
       "  {'time': 'zo 20-1-2019 09:30',\n",
       "   'home': 'ALMERE BV 17',\n",
       "   'away': 'SLOTERMEER BV 2',\n",
       "   'score': '',\n",
       "   'locationid': '13',\n",
       "   'gameid': '4620'},\n",
       "  {'time': 'zo 20-1-2019 10:00',\n",
       "   'home': 'HILLEGOM BC 7',\n",
       "   'away': 'ZIJDERVELD BV VAN 8',\n",
       "   'score': '',\n",
       "   'locationid': '210',\n",
       "   'gameid': '4626'},\n",
       "  {'time': 'zo 20-1-2019 12:45',\n",
       "   'home': 'SWISH BV 7',\n",
       "   'away': 'IJMOND BC 4',\n",
       "   'score': '',\n",
       "   'locationid': '440',\n",
       "   'gameid': '4658'},\n",
       "  {'time': 'do 24-1-2019 20:00',\n",
       "   'home': 'IJMOND BC 4',\n",
       "   'away': 'HILLEGOM BC 7',\n",
       "   'score': '',\n",
       "   'locationid': '227',\n",
       "   'gameid': '4642'},\n",
       "  {'time': 'zo 27-1-2019 14:00',\n",
       "   'home': 'ZIJDERVELD BV VAN 8',\n",
       "   'away': 'SPACE SHUTTLE BV 1',\n",
       "   'score': '',\n",
       "   'locationid': '525',\n",
       "   'gameid': '4660'},\n",
       "  {'time': 'zo 27-1-2019 14:00',\n",
       "   'home': 'SLOTERMEER BV 2',\n",
       "   'away': 'SWISH BV 7',\n",
       "   'score': '',\n",
       "   'locationid': '412',\n",
       "   'gameid': '4666'},\n",
       "  {'time': 'za 9-2-2019 19:00',\n",
       "   'home': 'ALMERE BV 17',\n",
       "   'away': 'HILLEGOM BC 7',\n",
       "   'score': '',\n",
       "   'locationid': '13',\n",
       "   'gameid': '4641'},\n",
       "  {'time': 'zo 10-2-2019 09:30',\n",
       "   'home': 'SPACE SHUTTLE BV 1',\n",
       "   'away': 'SLOTERMEER BV 2',\n",
       "   'score': '',\n",
       "   'locationid': '425',\n",
       "   'gameid': '4622'},\n",
       "  {'time': 'zo 10-2-2019 14:00',\n",
       "   'home': 'SWISH BV 7',\n",
       "   'away': 'ZIJDERVELD BV VAN 8',\n",
       "   'score': '',\n",
       "   'locationid': '440',\n",
       "   'gameid': '4630'}]}"
      ]
     },
     "execution_count": 74,
     "metadata": {},
     "output_type": "execute_result"
    }
   ],
   "source": [
    "import re\n",
    "a = match()\n",
    "a"
   ]
  },
  {
   "cell_type": "code",
   "execution_count": 78,
   "metadata": {},
   "outputs": [
    {
     "data": {
      "text/plain": [
       "{'time': 'zo 16-9-2018 10:00',\n",
       " 'home': 'HILLEGOM BC 7',\n",
       " 'away': 'SLOTERMEER BV 2',\n",
       " 'score': '6-2',\n",
       " 'locationid': '210',\n",
       " 'gameid': '4619'}"
      ]
     },
     "execution_count": 78,
     "metadata": {},
     "output_type": "execute_result"
    }
   ],
   "source": [
    "def get_games(json, team):\n",
    "    result = []\n",
    "    \n",
    "    for dictionary in json['matches']:\n",
    "        if team in dictionary[\"home\"].lower() or team in dictionary[\"away\"].lower():\n",
    "            result.append(dictionary)\n",
    "            \n",
    "    return result\n",
    "\n",
    "get_games(a, \"hillegom\")[0]"
   ]
  },
  {
   "cell_type": "code",
   "execution_count": 80,
   "metadata": {},
   "outputs": [
    {
     "data": {
      "text/plain": [
       "{'time': 'zo 7-10-2018 13:15',\n",
       " 'home': 'SWISH BV 7',\n",
       " 'away': 'HILLEGOM BC 7',\n",
       " 'score': '3-5',\n",
       " 'locationid': '440',\n",
       " 'gameid': '4644'}"
      ]
     },
     "execution_count": 80,
     "metadata": {},
     "output_type": "execute_result"
    }
   ],
   "source": [
    "def get_last_game(json): \n",
    "    result = []\n",
    "    \n",
    "    for dictionary in get_games(json, \"hillegom\"):\n",
    "        if dictionary[\"score\"] != \"\":\n",
    "            result.append(dictionary)\n",
    "    \n",
    "    return result[-1]\n",
    "get_last_game(a)"
   ]
  },
  {
   "cell_type": "code",
   "execution_count": 81,
   "metadata": {},
   "outputs": [
    {
     "data": {
      "text/plain": [
       "{'time': 'zo 4-11-2018 10:00',\n",
       " 'home': 'HILLEGOM BC 7',\n",
       " 'away': 'ALMERE BV 17',\n",
       " 'score': '',\n",
       " 'locationid': '210',\n",
       " 'gameid': '4648'}"
      ]
     },
     "execution_count": 81,
     "metadata": {},
     "output_type": "execute_result"
    }
   ],
   "source": [
    "def get_next_game(json):\n",
    "    result = []\n",
    "    \n",
    "    for dictionary in get_games(json, \"hillegom\"):\n",
    "        if dictionary[\"score\"] == \"\":\n",
    "            return dictionary\n",
    "\n",
    "get_next_game(a)"
   ]
  },
  {
   "cell_type": "code",
   "execution_count": 97,
   "metadata": {},
   "outputs": [],
   "source": [
    "teamID = [505, 504, 499]\n",
    "seasonID = \"F3C6D619-32F6-4C2A-8506-798D7493D668\"\n",
    "baseLink = \"https://badmintonnederland.toernooi.nl/sport/\"\n",
    "\n",
    "def craftTeamLink(info, seasonID, teamID):\n",
    "    baseLink = \"https://badmintonnederland.toernooi.nl/sport/\"\n",
    "    link = baseLink + info + \".aspx?id=\" + seasonID + \"&tid=\" + str(teamID)\n",
    "    return link\n",
    "\n",
    "def craftGameLink(info, seasonID, gameID):\n",
    "    baseLink = \"https://badmintonnederland.toernooi.nl/sport/\"\n",
    "    link = baseLink + info + \".aspx?id=\" + seasonID + \"&match=\" + str(gameID)\n",
    "    return link\n"
   ]
  },
  {
   "cell_type": "code",
   "execution_count": 113,
   "metadata": {},
   "outputs": [],
   "source": [
    "def get_game_info(gameid):\n",
    "    link = craftGameLink(\"teammatch\", seasonID, gameid)\n",
    "    soup = get_webpage(link)\n",
    "    \n",
    "    return soup\n",
    "\n",
    "c = get_game_info(4644)"
   ]
  },
  {
   "cell_type": "code",
   "execution_count": 170,
   "metadata": {},
   "outputs": [
    {
     "data": {
      "text/plain": [
       "[['MD',\n",
       "  'Huug de Dreu',\n",
       "  'Luuk van Vliet',\n",
       "  'Sander van Wickeren',\n",
       "  'Bryan van Rijn',\n",
       "  '21-17 15-21 9-21',\n",
       "  'away'],\n",
       " ['VD',\n",
       "  'Menna van der Voort-de Wolf',\n",
       "  'Taima Sjoerds',\n",
       "  'Natasja Woudstra',\n",
       "  'Miranda Huurman',\n",
       "  '21-18 21-15',\n",
       "  'home'],\n",
       " ['ME1', 'Luuk van Vliet', 'Derek Bakker', '21-13 20-22 18-21', 'away'],\n",
       " ['VE1', 'Taima Sjoerds', 'Miranda Huurman', '21-8 21-4', 'home'],\n",
       " ['ME2', 'Huug de Dreu', 'Bryan van Rijn', '19-21 18-21', 'away'],\n",
       " ['VE2',\n",
       "  'Menna van der Voort-de Wolf',\n",
       "  'Natasja Woudstra',\n",
       "  '21-12 21-3',\n",
       "  'home'],\n",
       " ['GD1',\n",
       "  'Huug de Dreu',\n",
       "  'Menna van der Voort-de Wolf',\n",
       "  'Sander van Wickeren',\n",
       "  'Miranda Huurman',\n",
       "  '19-21 21-18 13-21',\n",
       "  'away'],\n",
       " ['GD2',\n",
       "  'Luuk van Vliet',\n",
       "  'Taima Sjoerds',\n",
       "  'Derek Bakker',\n",
       "  'Natasja Woudstra',\n",
       "  '18-21 14-21',\n",
       "  'away']]"
      ]
     },
     "execution_count": 170,
     "metadata": {},
     "output_type": "execute_result"
    }
   ],
   "source": [
    "def check(soup):\n",
    "    s = soup.find(\"table\", {\"class\":\"ruler matches\"}).findAll(\"tbody\")\n",
    "    games = []\n",
    "    \n",
    "    for x in s[0]:\n",
    "        \n",
    "        # Ignore whitespaces\n",
    "        if len(x) > 2:\n",
    "            \n",
    "            # Make temporary list of information\n",
    "            temp = []\n",
    "            \n",
    "            # Get every game played in the match\n",
    "            for y in x.findAll(\"td\"):\n",
    "                temp.append(y.get_text())\n",
    "                \n",
    "            # Process the temp list\n",
    "            if \"D\" in temp[0]:\n",
    "                game = [temp[0]] + temp[2:4] + temp[-3:]\n",
    "            else:\n",
    "                game = [temp[0], temp[2]] + temp[-2:]\n",
    "                \n",
    "            game.append(who_wins(temp[-1]))\n",
    "            \n",
    "            games.append(game)\n",
    "    return games\n",
    "\n",
    "check(c)"
   ]
  },
  {
   "cell_type": "code",
   "execution_count": 169,
   "metadata": {},
   "outputs": [
    {
     "data": {
      "text/plain": [
       "'away'"
      ]
     },
     "execution_count": 169,
     "metadata": {},
     "output_type": "execute_result"
    }
   ],
   "source": [
    "def who_wins(points):\n",
    "    games = points.split(\" \")\n",
    "    \n",
    "    if int(games[-1].split(\"-\")[0]) > int(games[-1].split(\"-\")[1]):\n",
    "        return \"home\"\n",
    "    else:\n",
    "        return \"away\"\n",
    "\n",
    "    \n",
    "who_wins('21-17 15-21 9-21')"
   ]
  },
  {
   "cell_type": "code",
   "execution_count": 87,
   "metadata": {},
   "outputs": [
    {
     "data": {
      "text/plain": [
       "'https://badmintonnederland.toernooi.nl/sport/teammatch.aspx?id=F3C6D619-32F6-4C2A-8506-798D7493D668&match=4644'"
      ]
     },
     "execution_count": 87,
     "metadata": {},
     "output_type": "execute_result"
    }
   ],
   "source": [
    "craftGameLink(\"teammatch\", seasonID, 4644)"
   ]
  },
  {
   "cell_type": "code",
   "execution_count": 182,
   "metadata": {},
   "outputs": [],
   "source": [
    "def get_ranking(soup):\n",
    "\n",
    "    rows = soup.find('table', {\"class\": \"ruler\"}).findAll('tr')\n",
    "    division = \" \".join(soup.findAll(\"div\", {\"class\":\"title\"})[0].get_text().split()[:2])\n",
    "    print(\" \".join(soup.findAll(\"div\", {\"class\":\"title\"})[0].get_text().split()))\n",
    "\n",
    "    ranking = []\n",
    "    for row in rows[1:]:\n",
    "        ranking.append(strip_rank_col(row))\n",
    "\n",
    "    return {\"division\": division, \"table\": ranking}\n",
    "\n",
    "def strip_rank_col(rows):\n",
    "    rank = rows.find('td', {\"class\":\"standingsrank\"}).get_text()\n",
    "    team = rows.find('a').get_text()\n",
    "    scores = rows.findAll('td', {\"align\":\"center\"})\n",
    "    points = scores[0].get_text()\n",
    "    played = scores[1].get_text()\n",
    "\n",
    "    return {\"rank\": rank,\"team\": team,\"points\": points,\"played\": played}"
   ]
  },
  {
   "cell_type": "code",
   "execution_count": 172,
   "metadata": {},
   "outputs": [],
   "source": [
    "def rank():\n",
    "    link = \"https://badmintonnederland.toernooi.nl/sport/draw.aspx?id=F3C6D619-32F6-4C2A-8506-798D7493D668&draw=73\"\n",
    "    soup = get_webpage(link)\n",
    "    return get_ranking(soup)"
   ]
  },
  {
   "cell_type": "code",
   "execution_count": 183,
   "metadata": {},
   "outputs": [
    {
     "name": "stdout",
     "output_type": "stream",
     "text": [
      "6e divisie - 6e divisie afd. 14 Favoriet maken\n"
     ]
    },
    {
     "data": {
      "text/plain": [
       "{'division': '6e divisie',\n",
       " 'table': [{'rank': '1', 'team': 'IJMOND BC 4', 'points': '21', 'played': '4'},\n",
       "  {'rank': '2', 'team': 'HILLEGOM BC 7', 'points': '19', 'played': '3'},\n",
       "  {'rank': '3', 'team': 'ALMERE BV 17', 'points': '19', 'played': '4'},\n",
       "  {'rank': '4', 'team': 'SWISH BV 7', 'points': '12', 'played': '3'},\n",
       "  {'rank': '5', 'team': 'SPACE SHUTTLE BV 1', 'points': '10', 'played': '4'},\n",
       "  {'rank': '6', 'team': 'SLOTERMEER BV 2', 'points': '9', 'played': '3'},\n",
       "  {'rank': '7', 'team': 'ZIJDERVELD BV VAN 8', 'points': '6', 'played': '3'}]}"
      ]
     },
     "execution_count": 183,
     "metadata": {},
     "output_type": "execute_result"
    }
   ],
   "source": [
    "rank()"
   ]
  },
  {
   "cell_type": "code",
   "execution_count": 184,
   "metadata": {},
   "outputs": [
    {
     "data": {
      "text/plain": [
       "'a, b, c'"
      ]
     },
     "execution_count": 184,
     "metadata": {},
     "output_type": "execute_result"
    }
   ],
   "source": [
    "lijst = [\"a\", \"b\", \"c\"]\n",
    "\", \".join(lijst) "
   ]
  }
 ],
 "metadata": {
  "kernelspec": {
   "display_name": "Python 3",
   "language": "python",
   "name": "python3"
  },
  "language_info": {
   "codemirror_mode": {
    "name": "ipython",
    "version": 3
   },
   "file_extension": ".py",
   "mimetype": "text/x-python",
   "name": "python",
   "nbconvert_exporter": "python",
   "pygments_lexer": "ipython3",
   "version": "3.6.5"
  }
 },
 "nbformat": 4,
 "nbformat_minor": 2
}
