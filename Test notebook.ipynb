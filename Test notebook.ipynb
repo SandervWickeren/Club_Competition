{
 "cells": [
  {
   "cell_type": "code",
   "execution_count": 2,
   "metadata": {},
   "outputs": [],
   "source": [
    "import urllib.request\n",
    "from bs4 import BeautifulSoup\n",
    "import html\n",
    "\n",
    "def get_webpage(link):\n",
    "\n",
    "    req = urllib.request.urlopen(link)\n",
    "    bytes = req.read()\n",
    "\n",
    "    string = bytes.decode('utf8')\n",
    "    req.close()\n",
    "\n",
    "    return BeautifulSoup(string, 'html.parser')"
   ]
  },
  {
   "cell_type": "code",
   "execution_count": 3,
   "metadata": {},
   "outputs": [],
   "source": [
    "def run():\n",
    "    link = \"https://badmintonnederland.toernooi.nl/sport/drawmatches.aspx?id=F3C6D619-32F6-4C2A-8506-798D7493D668&draw=73\"\n",
    "    soup = get_webpage(link)\n",
    "    print(get_matches(soup))\n"
   ]
  },
  {
   "cell_type": "code",
   "execution_count": 4,
   "metadata": {},
   "outputs": [],
   "source": [
    "def get_matches(soup):\n",
    "    table = soup.findAll('table', {\"class\": \"ruler matches\"}, 'tr')\n",
    "    #tablerows = table.findAll('tr')\n",
    "    return table[1]"
   ]
  },
  {
   "cell_type": "code",
   "execution_count": 5,
   "metadata": {},
   "outputs": [],
   "source": [
    "link = \"https://badmintonnederland.toernooi.nl/sport/draw.aspx?id=F3C6D619-32F6-4C2A-8506-798D7493D668&draw=73\"\n",
    "soup = get_webpage(link)"
   ]
  },
  {
   "cell_type": "code",
   "execution_count": 6,
   "metadata": {},
   "outputs": [
    {
     "data": {
      "text/plain": [
       "[<tr class=\"poulestandings\">\n",
       " <td></td><td></td><td>Punten</td><td>Gespeeld</td><td>Gewonnen</td><td>Gelijk</td><td>Verloren</td><td colspan=\"3\">Wedstrijden</td><td colspan=\"3\">Games</td><td colspan=\"3\">Punten</td>\n",
       " </tr>, <tr>\n",
       " <td class=\"standingsrank\">1</td><td><a href=\"/sport/team.aspx?id=F3C6D619-32F6-4C2A-8506-798D7493D668&amp;team=566\">IJMOND BC 4</a></td><td align=\"center\">21</td><td align=\"center\">4</td><td align=\"center\">3</td><td align=\"center\">1</td><td align=\"center\">0</td><td align=\"right\" class=\"score\">21</td><td align=\"center\" class=\"separator\">-</td><td align=\"left\" class=\"score\">11</td><td align=\"right\" class=\"score\">43</td><td align=\"center\" class=\"separator\">-</td><td align=\"left\" class=\"score\">28</td><td align=\"right\" class=\"score\">1343</td><td align=\"center\" class=\"separator\">-</td><td align=\"left\" class=\"score\">1180</td>\n",
       " </tr>, <tr>\n",
       " <td class=\"standingsrank\">2</td><td><a href=\"/sport/team.aspx?id=F3C6D619-32F6-4C2A-8506-798D7493D668&amp;team=505\">HILLEGOM BC 7</a></td><td align=\"center\">19</td><td align=\"center\">3</td><td align=\"center\">3</td><td align=\"center\">0</td><td align=\"center\">0</td><td align=\"right\" class=\"score\">19</td><td align=\"center\" class=\"separator\">-</td><td align=\"left\" class=\"score\">5</td><td align=\"right\" class=\"score\">39</td><td align=\"center\" class=\"separator\">-</td><td align=\"left\" class=\"score\">18</td><td align=\"right\" class=\"score\">1080</td><td align=\"center\" class=\"separator\">-</td><td align=\"left\" class=\"score\">952</td>\n",
       " </tr>, <tr>\n",
       " <td class=\"standingsrank\">3</td><td><a href=\"/sport/team.aspx?id=F3C6D619-32F6-4C2A-8506-798D7493D668&amp;team=41\">ALMERE BV 17</a></td><td align=\"center\">19</td><td align=\"center\">4</td><td align=\"center\">2</td><td align=\"center\">1</td><td align=\"center\">1</td><td align=\"right\" class=\"score\">19</td><td align=\"center\" class=\"separator\">-</td><td align=\"left\" class=\"score\">13</td><td align=\"right\" class=\"score\">41</td><td align=\"center\" class=\"separator\">-</td><td align=\"left\" class=\"score\">30</td><td align=\"right\" class=\"score\">1342</td><td align=\"center\" class=\"separator\">-</td><td align=\"left\" class=\"score\">1241</td>\n",
       " </tr>, <tr>\n",
       " <td class=\"standingsrank\">4</td><td><a href=\"/sport/team.aspx?id=F3C6D619-32F6-4C2A-8506-798D7493D668&amp;team=1072\">SWISH BV 7</a></td><td align=\"center\">12</td><td align=\"center\">3</td><td align=\"center\">1</td><td align=\"center\">0</td><td align=\"center\">2</td><td align=\"right\" class=\"score\">12</td><td align=\"center\" class=\"separator\">-</td><td align=\"left\" class=\"score\">12</td><td align=\"right\" class=\"score\">30</td><td align=\"center\" class=\"separator\">-</td><td align=\"left\" class=\"score\">29</td><td align=\"right\" class=\"score\">1109</td><td align=\"center\" class=\"separator\">-</td><td align=\"left\" class=\"score\">1072</td>\n",
       " </tr>, <tr>\n",
       " <td class=\"standingsrank\">5</td><td><a href=\"/sport/team.aspx?id=F3C6D619-32F6-4C2A-8506-798D7493D668&amp;team=1036\">SPACE SHUTTLE BV 1</a></td><td align=\"center\">10</td><td align=\"center\">4</td><td align=\"center\">1</td><td align=\"center\">0</td><td align=\"center\">3</td><td align=\"right\" class=\"score\">10</td><td align=\"center\" class=\"separator\">-</td><td align=\"left\" class=\"score\">22</td><td align=\"right\" class=\"score\">29</td><td align=\"center\" class=\"separator\">-</td><td align=\"left\" class=\"score\">45</td><td align=\"right\" class=\"score\">1268</td><td align=\"center\" class=\"separator\">-</td><td align=\"left\" class=\"score\">1414</td>\n",
       " </tr>, <tr>\n",
       " <td class=\"standingsrank\">6</td><td><a href=\"/sport/team.aspx?id=F3C6D619-32F6-4C2A-8506-798D7493D668&amp;team=1001\">SLOTERMEER BV 2</a></td><td align=\"center\">9</td><td align=\"center\">3</td><td align=\"center\">1</td><td align=\"center\">0</td><td align=\"center\">2</td><td align=\"right\" class=\"score\">9</td><td align=\"center\" class=\"separator\">-</td><td align=\"left\" class=\"score\">15</td><td align=\"right\" class=\"score\">23</td><td align=\"center\" class=\"separator\">-</td><td align=\"left\" class=\"score\">35</td><td align=\"right\" class=\"score\">1007</td><td align=\"center\" class=\"separator\">-</td><td align=\"left\" class=\"score\">1128</td>\n",
       " </tr>, <tr>\n",
       " <td class=\"standingsrank\">7</td><td><a href=\"/sport/team.aspx?id=F3C6D619-32F6-4C2A-8506-798D7493D668&amp;team=1264\">ZIJDERVELD BV VAN 8</a></td><td align=\"center\">6</td><td align=\"center\">3</td><td align=\"center\">0</td><td align=\"center\">0</td><td align=\"center\">3</td><td align=\"right\" class=\"score\">6</td><td align=\"center\" class=\"separator\">-</td><td align=\"left\" class=\"score\">18</td><td align=\"right\" class=\"score\">17</td><td align=\"center\" class=\"separator\">-</td><td align=\"left\" class=\"score\">37</td><td align=\"right\" class=\"score\">895</td><td align=\"center\" class=\"separator\">-</td><td align=\"left\" class=\"score\">1057</td>\n",
       " </tr>]"
      ]
     },
     "execution_count": 6,
     "metadata": {},
     "output_type": "execute_result"
    }
   ],
   "source": [
    "table = soup.find('table', {\"class\": \"ruler\"}).findAll('tr')\n",
    "table"
   ]
  },
  {
   "cell_type": "code",
   "execution_count": 7,
   "metadata": {},
   "outputs": [
    {
     "data": {
      "text/plain": [
       "bs4.element.ResultSet"
      ]
     },
     "execution_count": 7,
     "metadata": {},
     "output_type": "execute_result"
    }
   ],
   "source": [
    "type(table)"
   ]
  },
  {
   "cell_type": "code",
   "execution_count": 8,
   "metadata": {},
   "outputs": [
    {
     "data": {
      "text/plain": [
       "<tr class=\"poulestandings\">\n",
       "<td></td><td></td><td>Punten</td><td>Gespeeld</td><td>Gewonnen</td><td>Gelijk</td><td>Verloren</td><td colspan=\"3\">Wedstrijden</td><td colspan=\"3\">Games</td><td colspan=\"3\">Punten</td>\n",
       "</tr>"
      ]
     },
     "execution_count": 8,
     "metadata": {},
     "output_type": "execute_result"
    }
   ],
   "source": [
    "rows = soup.table.findAll('tr')[0]\n",
    "rows"
   ]
  },
  {
   "cell_type": "code",
   "execution_count": 9,
   "metadata": {},
   "outputs": [
    {
     "data": {
      "text/plain": [
       "[<td></td>,\n",
       " <td></td>,\n",
       " <td>Punten</td>,\n",
       " <td>Gespeeld</td>,\n",
       " <td>Gewonnen</td>,\n",
       " <td>Gelijk</td>,\n",
       " <td>Verloren</td>,\n",
       " <td colspan=\"3\">Wedstrijden</td>,\n",
       " <td colspan=\"3\">Games</td>,\n",
       " <td colspan=\"3\">Punten</td>]"
      ]
     },
     "execution_count": 9,
     "metadata": {},
     "output_type": "execute_result"
    }
   ],
   "source": [
    "col = rows.findAll('td')\n",
    "col    "
   ]
  },
  {
   "cell_type": "code",
   "execution_count": 12,
   "metadata": {},
   "outputs": [
    {
     "ename": "AttributeError",
     "evalue": "'NoneType' object has no attribute 'get_text'",
     "output_type": "error",
     "traceback": [
      "\u001b[1;31m---------------------------------------------------------------------------\u001b[0m",
      "\u001b[1;31mAttributeError\u001b[0m                            Traceback (most recent call last)",
      "\u001b[1;32m<ipython-input-12-1dd80e0b4bd2>\u001b[0m in \u001b[0;36m<module>\u001b[1;34m()\u001b[0m\n\u001b[1;32m----> 1\u001b[1;33m \u001b[0mtime\u001b[0m \u001b[1;33m=\u001b[0m \u001b[0mrows\u001b[0m\u001b[1;33m.\u001b[0m\u001b[0mfind\u001b[0m\u001b[1;33m(\u001b[0m\u001b[1;34m'td'\u001b[0m\u001b[1;33m,\u001b[0m \u001b[1;33m{\u001b[0m\u001b[1;34m\"class\"\u001b[0m\u001b[1;33m:\u001b[0m\u001b[1;34m\"plannedtime\"\u001b[0m\u001b[1;33m}\u001b[0m\u001b[1;33m)\u001b[0m\u001b[1;33m.\u001b[0m\u001b[0mget_text\u001b[0m\u001b[1;33m(\u001b[0m\u001b[1;33m)\u001b[0m\u001b[1;33m\u001b[0m\u001b[0m\n\u001b[0m\u001b[0;32m      2\u001b[0m \u001b[0mtime\u001b[0m\u001b[1;33m\u001b[0m\u001b[0m\n",
      "\u001b[1;31mAttributeError\u001b[0m: 'NoneType' object has no attribute 'get_text'"
     ]
    }
   ],
   "source": [
    "time = rows.find('td', {\"class\":\"plannedtime\"}).get_text()\n",
    "time"
   ]
  },
  {
   "cell_type": "code",
   "execution_count": 11,
   "metadata": {},
   "outputs": [
    {
     "ename": "IndexError",
     "evalue": "list index out of range",
     "output_type": "error",
     "traceback": [
      "\u001b[1;31m---------------------------------------------------------------------------\u001b[0m",
      "\u001b[1;31mIndexError\u001b[0m                                Traceback (most recent call last)",
      "\u001b[1;32m<ipython-input-11-6e1daa25bb2e>\u001b[0m in \u001b[0;36m<module>\u001b[1;34m()\u001b[0m\n\u001b[1;32m----> 1\u001b[1;33m \u001b[0mhome\u001b[0m \u001b[1;33m=\u001b[0m \u001b[0mrows\u001b[0m\u001b[1;33m.\u001b[0m\u001b[0mfindAll\u001b[0m\u001b[1;33m(\u001b[0m\u001b[1;34m'a'\u001b[0m\u001b[1;33m,\u001b[0m \u001b[1;33m{\u001b[0m\u001b[1;34m\"class\"\u001b[0m\u001b[1;33m:\u001b[0m\u001b[1;34m\"teamname\"\u001b[0m\u001b[1;33m}\u001b[0m\u001b[1;33m)\u001b[0m\u001b[1;33m[\u001b[0m\u001b[1;36m0\u001b[0m\u001b[1;33m]\u001b[0m\u001b[1;33m.\u001b[0m\u001b[0mget_text\u001b[0m\u001b[1;33m(\u001b[0m\u001b[1;33m)\u001b[0m\u001b[1;33m\u001b[0m\u001b[0m\n\u001b[0m\u001b[0;32m      2\u001b[0m \u001b[0maway\u001b[0m \u001b[1;33m=\u001b[0m \u001b[0mrows\u001b[0m\u001b[1;33m.\u001b[0m\u001b[0mfindAll\u001b[0m\u001b[1;33m(\u001b[0m\u001b[1;34m'a'\u001b[0m\u001b[1;33m,\u001b[0m \u001b[1;33m{\u001b[0m\u001b[1;34m\"class\"\u001b[0m\u001b[1;33m:\u001b[0m\u001b[1;34m\"teamname\"\u001b[0m\u001b[1;33m}\u001b[0m\u001b[1;33m)\u001b[0m\u001b[1;33m[\u001b[0m\u001b[1;36m1\u001b[0m\u001b[1;33m]\u001b[0m\u001b[1;33m.\u001b[0m\u001b[0mget_text\u001b[0m\u001b[1;33m(\u001b[0m\u001b[1;33m)\u001b[0m\u001b[1;33m\u001b[0m\u001b[0m\n\u001b[0;32m      3\u001b[0m \u001b[0mhome\u001b[0m\u001b[1;33m,\u001b[0m \u001b[0maway\u001b[0m\u001b[1;33m\u001b[0m\u001b[0m\n",
      "\u001b[1;31mIndexError\u001b[0m: list index out of range"
     ]
    }
   ],
   "source": [
    "home = rows.findAll('a', {\"class\":\"teamname\"})[0].get_text()\n",
    "away = rows.findAll('a', {\"class\":\"teamname\"})[1].get_text()\n",
    "home, away"
   ]
  },
  {
   "cell_type": "code",
   "execution_count": 13,
   "metadata": {},
   "outputs": [
    {
     "data": {
      "text/plain": [
       "''"
      ]
     },
     "execution_count": 13,
     "metadata": {},
     "output_type": "execute_result"
    }
   ],
   "source": [
    "try:\n",
    "    score = rows.find('span', {\"class\":\"score\"}).get_text()\n",
    "except:\n",
    "    score = \"\"\n",
    "score"
   ]
  },
  {
   "cell_type": "code",
   "execution_count": 14,
   "metadata": {},
   "outputs": [
    {
     "ename": "IndexError",
     "evalue": "list index out of range",
     "output_type": "error",
     "traceback": [
      "\u001b[1;31m---------------------------------------------------------------------------\u001b[0m",
      "\u001b[1;31mIndexError\u001b[0m                                Traceback (most recent call last)",
      "\u001b[1;32m<ipython-input-14-da5af135e7e1>\u001b[0m in \u001b[0;36m<module>\u001b[1;34m()\u001b[0m\n\u001b[1;32m----> 1\u001b[1;33m \u001b[0mlocation_link\u001b[0m \u001b[1;33m=\u001b[0m \u001b[0mrows\u001b[0m\u001b[1;33m.\u001b[0m\u001b[0mfindAll\u001b[0m\u001b[1;33m(\u001b[0m\u001b[1;34m'a'\u001b[0m\u001b[1;33m)\u001b[0m\u001b[1;33m[\u001b[0m\u001b[1;33m-\u001b[0m\u001b[1;36m1\u001b[0m\u001b[1;33m]\u001b[0m\u001b[1;33m[\u001b[0m\u001b[1;34m'href'\u001b[0m\u001b[1;33m]\u001b[0m\u001b[1;33m\u001b[0m\u001b[0m\n\u001b[0m\u001b[0;32m      2\u001b[0m \u001b[0mlocation_link\u001b[0m\u001b[1;33m\u001b[0m\u001b[0m\n",
      "\u001b[1;31mIndexError\u001b[0m: list index out of range"
     ]
    }
   ],
   "source": [
    "location_link = rows.findAll('a')[-1]['href']\n",
    "location_link"
   ]
  },
  {
   "cell_type": "code",
   "execution_count": 15,
   "metadata": {},
   "outputs": [
    {
     "data": {
      "text/plain": [
       "<tr class=\"poulestandings\">\n",
       "<td></td><td></td><td>Punten</td><td>Gespeeld</td><td>Gewonnen</td><td>Gelijk</td><td>Verloren</td><td colspan=\"3\">Wedstrijden</td><td colspan=\"3\">Games</td><td colspan=\"3\">Punten</td>\n",
       "</tr>"
      ]
     },
     "execution_count": 15,
     "metadata": {},
     "output_type": "execute_result"
    }
   ],
   "source": [
    "rows2 = soup.find('table', {\"class\": \"ruler\"}).findAll('tr')[0]\n",
    "rows2"
   ]
  },
  {
   "cell_type": "code",
   "execution_count": 16,
   "metadata": {},
   "outputs": [
    {
     "ename": "AttributeError",
     "evalue": "'NoneType' object has no attribute 'get_text'",
     "output_type": "error",
     "traceback": [
      "\u001b[1;31m---------------------------------------------------------------------------\u001b[0m",
      "\u001b[1;31mAttributeError\u001b[0m                            Traceback (most recent call last)",
      "\u001b[1;32m<ipython-input-16-c52d1b85e6cd>\u001b[0m in \u001b[0;36m<module>\u001b[1;34m()\u001b[0m\n\u001b[1;32m----> 1\u001b[1;33m \u001b[0mrank\u001b[0m \u001b[1;33m=\u001b[0m \u001b[0mrows2\u001b[0m\u001b[1;33m.\u001b[0m\u001b[0mfind\u001b[0m\u001b[1;33m(\u001b[0m\u001b[1;34m'td'\u001b[0m\u001b[1;33m,\u001b[0m \u001b[1;33m{\u001b[0m\u001b[1;34m\"class\"\u001b[0m\u001b[1;33m:\u001b[0m\u001b[1;34m\"standingsrank\"\u001b[0m\u001b[1;33m}\u001b[0m\u001b[1;33m)\u001b[0m\u001b[1;33m.\u001b[0m\u001b[0mget_text\u001b[0m\u001b[1;33m(\u001b[0m\u001b[1;33m)\u001b[0m\u001b[1;33m\u001b[0m\u001b[0m\n\u001b[0m\u001b[0;32m      2\u001b[0m \u001b[0mrank\u001b[0m\u001b[1;33m\u001b[0m\u001b[0m\n",
      "\u001b[1;31mAttributeError\u001b[0m: 'NoneType' object has no attribute 'get_text'"
     ]
    }
   ],
   "source": [
    "rank = rows2.find('td', {\"class\":\"standingsrank\"}).get_text()\n",
    "rank"
   ]
  },
  {
   "cell_type": "code",
   "execution_count": null,
   "metadata": {},
   "outputs": [],
   "source": [
    "team = rows2.find('a').get_text()\n",
    "team"
   ]
  },
  {
   "cell_type": "code",
   "execution_count": null,
   "metadata": {},
   "outputs": [],
   "source": [
    "scores = rows2.findAll('td', {\"align\":\"center\"})\n",
    "points = scores[0].get_text()\n",
    "played = scores[1].get_text()\n"
   ]
  },
  {
   "cell_type": "code",
   "execution_count": 26,
   "metadata": {},
   "outputs": [
    {
     "data": {
      "text/plain": [
       "'6e divisie'"
      ]
     },
     "execution_count": 26,
     "metadata": {},
     "output_type": "execute_result"
    }
   ],
   "source": [
    "\" \".join(soup.findAll(\"div\", {\"class\":\"title\"})[0].get_text().split()[:2])"
   ]
  }
 ],
 "metadata": {
  "kernelspec": {
   "display_name": "Python 3",
   "language": "python",
   "name": "python3"
  },
  "language_info": {
   "codemirror_mode": {
    "name": "ipython",
    "version": 3
   },
   "file_extension": ".py",
   "mimetype": "text/x-python",
   "name": "python",
   "nbconvert_exporter": "python",
   "pygments_lexer": "ipython3",
   "version": "3.6.5"
  }
 },
 "nbformat": 4,
 "nbformat_minor": 2
}
