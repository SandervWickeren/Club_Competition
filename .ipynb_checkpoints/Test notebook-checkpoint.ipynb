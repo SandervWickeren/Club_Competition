{
 "cells": [
  {
   "cell_type": "code",
   "execution_count": 6,
   "metadata": {},
   "outputs": [],
   "source": [
    "import urllib.request\n",
    "from bs4 import BeautifulSoup\n",
    "import html\n",
    "\n",
    "def get_webpage(link):\n",
    "\n",
    "    req = urllib.request.urlopen(link)\n",
    "    bytes = req.read()\n",
    "\n",
    "    string = bytes.decode('utf8')\n",
    "    req.close()\n",
    "\n",
    "    return BeautifulSoup(string, 'html.parser')"
   ]
  },
  {
   "cell_type": "code",
   "execution_count": 3,
   "metadata": {},
   "outputs": [],
   "source": [
    "def run():\n",
    "    link = \"https://badmintonnederland.toernooi.nl/sport/drawmatches.aspx?id=F3C6D619-32F6-4C2A-8506-798D7493D668&draw=73\"\n",
    "    soup = get_webpage(link)\n",
    "    print(get_matches(soup))\n"
   ]
  },
  {
   "cell_type": "code",
   "execution_count": 4,
   "metadata": {},
   "outputs": [],
   "source": [
    "def get_matches(soup):\n",
    "    table = soup.findAll('table', {\"class\": \"ruler matches\"}, 'tr')\n",
    "    #tablerows = table.findAll('tr')\n",
    "    return table[1]"
   ]
  },
  {
   "cell_type": "code",
   "execution_count": 7,
   "metadata": {},
   "outputs": [],
   "source": [
    "link = \"https://badmintonnederland.toernooi.nl/sport/drawmatches.aspx?id=F3C6D619-32F6-4C2A-8506-798D7493D668&draw=73\"\n",
    "soup = get_webpage(link)"
   ]
  },
  {
   "cell_type": "code",
   "execution_count": 10,
   "metadata": {},
   "outputs": [
    {
     "data": {
      "text/plain": [
       "[<table class=\"ruler matches\">\n",
       " <caption>\n",
       " \t\tWedstrijdoverzicht van 6e divisie - 6e divisie afd. 14\n",
       " \t</caption><thead>\n",
       " <tr>\n",
       " <td></td><td>Tijdstip</td><td>Ronde</td><td>Groep</td><td>Nr</td><td align=\"right\">Thuis</td><td>-</td><td>Uit</td><td>Uitslag</td><td>Locatie</td><td colspan=\"5\">Status</td><td></td>\n",
       " </tr>\n",
       " </thead><tbody>\n",
       " <tr>\n",
       " <td></td><td align=\"right\" class=\"plannedtime\">do 13-9-2018 <span class=\"time\">20:00</span></td><td align=\"right\">1</td><td align=\"right\">1</td><td></td><td align=\"right\" class=\"nowrap\"><strong><a class=\"teamname\" href=\"teammatch.aspx?id=F3C6D619-32F6-4C2A-8506-798D7493D668&amp;match=4628\">IJMOND BC 4</a></strong></td><td align=\"center\">-</td><td class=\"nowrap\"><a class=\"teamname\" href=\"teammatch.aspx?id=F3C6D619-32F6-4C2A-8506-798D7493D668&amp;match=4628\">ZIJDERVELD BV VAN 8</a></td><td><span class=\"score\"><span>6-2</span></span></td><td><a href=\"./location.aspx?id=F3C6D619-32F6-4C2A-8506-798D7493D668&amp;lid=227\">IJmuiden Oost (2)</a></td><td></td><td></td><td></td><td></td><td></td><td></td>\n",
       " </tr><tr>\n",
       " <td></td><td align=\"right\" class=\"plannedtime\">zo 16-9-2018 <span class=\"time\">09:30</span></td><td align=\"right\">1</td><td align=\"right\">1</td><td></td><td align=\"right\" class=\"nowrap\"><a class=\"teamname\" href=\"teammatch.aspx?id=F3C6D619-32F6-4C2A-8506-798D7493D668&amp;match=4650\">SPACE SHUTTLE BV 1</a></td><td align=\"center\">-</td><td class=\"nowrap\"><strong><a class=\"teamname\" href=\"teammatch.aspx?id=F3C6D619-32F6-4C2A-8506-798D7493D668&amp;match=4650\">ALMERE BV 17</a></strong></td><td><span class=\"score\"><span>2-6</span></span></td><td><a href=\"./location.aspx?id=F3C6D619-32F6-4C2A-8506-798D7493D668&amp;lid=425\">De Bloemhof (1)</a></td><td></td><td></td><td></td><td></td><td></td><td></td>\n",
       " </tr><tr>\n",
       " <td></td><td align=\"right\" class=\"plannedtime\">zo 16-9-2018 <span class=\"time\">10:00</span></td><td align=\"right\">1</td><td align=\"right\">1</td><td></td><td align=\"right\" class=\"nowrap\"><strong><a class=\"teamname\" href=\"teammatch.aspx?id=F3C6D619-32F6-4C2A-8506-798D7493D668&amp;match=4619\">HILLEGOM BC 7</a></strong></td><td align=\"center\">-</td><td class=\"nowrap\"><a class=\"teamname\" href=\"teammatch.aspx?id=F3C6D619-32F6-4C2A-8506-798D7493D668&amp;match=4619\">SLOTERMEER BV 2</a></td><td><span class=\"score\"><span>6-2</span></span></td><td><a href=\"./location.aspx?id=F3C6D619-32F6-4C2A-8506-798D7493D668&amp;lid=210\">Sporthal de Vosse (1)</a></td><td></td><td></td><td></td><td></td><td></td><td></td>\n",
       " </tr><tr>\n",
       " <td></td><td align=\"right\" class=\"plannedtime\">za 22-9-2018 <span class=\"time\">19:00</span></td><td align=\"right\">2</td><td align=\"right\">1</td><td></td><td align=\"right\" class=\"nowrap\"><strong><a class=\"teamname\" href=\"teammatch.aspx?id=F3C6D619-32F6-4C2A-8506-798D7493D668&amp;match=4656\">ALMERE BV 17</a></strong></td><td align=\"center\">-</td><td class=\"nowrap\"><strong><a class=\"teamname\" href=\"teammatch.aspx?id=F3C6D619-32F6-4C2A-8506-798D7493D668&amp;match=4656\">IJMOND BC 4</a></strong></td><td><span class=\"score\"><span>4-4</span></span></td><td><a href=\"./location.aspx?id=F3C6D619-32F6-4C2A-8506-798D7493D668&amp;lid=13\">Sportcomplex Raggers (2)</a></td><td></td><td></td><td><img class=\"icon_planningchanged\" id=\"icon_planningchanged_4656\" src=\"../images/icon_planningchanged.gif\" title=\"Wedstrijd verplaatst\"/></td><td></td><td></td><td></td>\n",
       " </tr><tr>\n",
       " <td></td><td align=\"right\" class=\"plannedtime\">zo 23-9-2018 <span class=\"time\">09:30</span></td><td align=\"right\">2</td><td align=\"right\">1</td><td></td><td align=\"right\" class=\"nowrap\"><strong><a class=\"teamname\" href=\"teammatch.aspx?id=F3C6D619-32F6-4C2A-8506-798D7493D668&amp;match=4672\">SPACE SHUTTLE BV 1</a></strong></td><td align=\"center\">-</td><td class=\"nowrap\"><a class=\"teamname\" href=\"teammatch.aspx?id=F3C6D619-32F6-4C2A-8506-798D7493D668&amp;match=4672\">SWISH BV 7</a></td><td><span class=\"score\"><span>5-3</span></span></td><td><a href=\"./location.aspx?id=F3C6D619-32F6-4C2A-8506-798D7493D668&amp;lid=425\">De Bloemhof (1)</a></td><td></td><td></td><td></td><td></td><td></td><td></td>\n",
       " </tr><tr>\n",
       " <td></td><td align=\"right\" class=\"plannedtime\">zo 23-9-2018 <span class=\"time\">14:00</span></td><td align=\"right\">2</td><td align=\"right\">1</td><td></td><td align=\"right\" class=\"nowrap\"><strong><a class=\"teamname\" href=\"teammatch.aspx?id=F3C6D619-32F6-4C2A-8506-798D7493D668&amp;match=4624\">SLOTERMEER BV 2</a></strong></td><td align=\"center\">-</td><td class=\"nowrap\"><a class=\"teamname\" href=\"teammatch.aspx?id=F3C6D619-32F6-4C2A-8506-798D7493D668&amp;match=4624\">ZIJDERVELD BV VAN 8</a></td><td><span class=\"score\"><span>5-3</span></span></td><td><a href=\"./location.aspx?id=F3C6D619-32F6-4C2A-8506-798D7493D668&amp;lid=412\">Laan van Spartaan (1)</a></td><td></td><td></td><td></td><td></td><td></td><td></td>\n",
       " </tr><tr>\n",
       " <td></td><td align=\"right\" class=\"plannedtime\">do 27-9-2018 <span class=\"time\">20:00</span></td><td align=\"right\">3</td><td align=\"right\">1</td><td></td><td align=\"right\" class=\"nowrap\"><strong><a class=\"teamname\" href=\"teammatch.aspx?id=F3C6D619-32F6-4C2A-8506-798D7493D668&amp;match=4621\">IJMOND BC 4</a></strong></td><td align=\"center\">-</td><td class=\"nowrap\"><a class=\"teamname\" href=\"teammatch.aspx?id=F3C6D619-32F6-4C2A-8506-798D7493D668&amp;match=4621\">SLOTERMEER BV 2</a></td><td><span class=\"score\"><span>6-2</span></span></td><td><a href=\"./location.aspx?id=F3C6D619-32F6-4C2A-8506-798D7493D668&amp;lid=227\">IJmuiden Oost (2)</a></td><td></td><td></td><td></td><td></td><td></td><td></td>\n",
       " </tr><tr>\n",
       " <td></td><td align=\"right\" class=\"plannedtime\">zo 30-9-2018 <span class=\"time\">10:00</span></td><td align=\"right\">3</td><td align=\"right\">1</td><td></td><td align=\"right\" class=\"nowrap\"><strong><a class=\"teamname\" href=\"teammatch.aspx?id=F3C6D619-32F6-4C2A-8506-798D7493D668&amp;match=4662\">HILLEGOM BC 7</a></strong></td><td align=\"center\">-</td><td class=\"nowrap\"><a class=\"teamname\" href=\"teammatch.aspx?id=F3C6D619-32F6-4C2A-8506-798D7493D668&amp;match=4662\">SPACE SHUTTLE BV 1</a></td><td><span class=\"score\"><span>8-0</span></span></td><td><a href=\"./location.aspx?id=F3C6D619-32F6-4C2A-8506-798D7493D668&amp;lid=210\">Sporthal de Vosse (1)</a></td><td></td><td></td><td></td><td></td><td></td><td></td>\n",
       " </tr><tr>\n",
       " <td></td><td align=\"right\" class=\"plannedtime\">zo 30-9-2018 <span class=\"time\">13:15</span></td><td align=\"right\">3</td><td align=\"right\">1</td><td></td><td align=\"right\" class=\"nowrap\"><strong><a class=\"teamname\" href=\"teammatch.aspx?id=F3C6D619-32F6-4C2A-8506-798D7493D668&amp;match=4651\">SWISH BV 7</a></strong></td><td align=\"center\">-</td><td class=\"nowrap\"><a class=\"teamname\" href=\"teammatch.aspx?id=F3C6D619-32F6-4C2A-8506-798D7493D668&amp;match=4651\">ALMERE BV 17</a></td><td><span class=\"score\"><span>6-2</span></span></td><td><a href=\"./location.aspx?id=F3C6D619-32F6-4C2A-8506-798D7493D668&amp;lid=440\">Sportcomplex Trias (1)</a></td><td></td><td></td><td><img class=\"icon_planningchanged\" id=\"icon_planningchanged_4651\" src=\"../images/icon_planningchanged.gif\" title=\"Wedstrijd verplaatst\"/></td><td></td><td></td><td></td>\n",
       " </tr><tr>\n",
       " <td></td><td align=\"right\" class=\"plannedtime\">zo 7-10-2018 <span class=\"time\">09:30</span></td><td align=\"right\">4</td><td align=\"right\">1</td><td></td><td align=\"right\" class=\"nowrap\"><a class=\"teamname\" href=\"teammatch.aspx?id=F3C6D619-32F6-4C2A-8506-798D7493D668&amp;match=4657\">SPACE SHUTTLE BV 1</a></td><td align=\"center\">-</td><td class=\"nowrap\"><strong><a class=\"teamname\" href=\"teammatch.aspx?id=F3C6D619-32F6-4C2A-8506-798D7493D668&amp;match=4657\">IJMOND BC 4</a></strong></td><td><span class=\"score\"><span>3-5</span></span></td><td><a href=\"./location.aspx?id=F3C6D619-32F6-4C2A-8506-798D7493D668&amp;lid=425\">De Bloemhof (1)</a></td><td></td><td></td><td></td><td></td><td></td><td></td>\n",
       " </tr><tr>\n",
       " <td></td><td align=\"right\" class=\"plannedtime\">zo 7-10-2018 <span class=\"time\">13:15</span></td><td align=\"right\">4</td><td align=\"right\">1</td><td></td><td align=\"right\" class=\"nowrap\"><a class=\"teamname\" href=\"teammatch.aspx?id=F3C6D619-32F6-4C2A-8506-798D7493D668&amp;match=4644\">SWISH BV 7</a></td><td align=\"center\">-</td><td class=\"nowrap\"><strong><a class=\"teamname\" href=\"teammatch.aspx?id=F3C6D619-32F6-4C2A-8506-798D7493D668&amp;match=4644\">HILLEGOM BC 7</a></strong></td><td><span class=\"score\"><span>3-5</span></span></td><td><a href=\"./location.aspx?id=F3C6D619-32F6-4C2A-8506-798D7493D668&amp;lid=440\">Sportcomplex Trias (1)</a></td><td></td><td></td><td><img class=\"icon_planningchanged\" id=\"icon_planningchanged_4644\" src=\"../images/icon_planningchanged.gif\" title=\"Wedstrijd verplaatst\"/></td><td></td><td></td><td></td>\n",
       " </tr><tr>\n",
       " <td></td><td align=\"right\" class=\"plannedtime\">zo 7-10-2018 <span class=\"time\">13:30</span></td><td align=\"right\">4</td><td align=\"right\">1</td><td></td><td align=\"right\" class=\"nowrap\"><strong><a class=\"teamname\" href=\"teammatch.aspx?id=F3C6D619-32F6-4C2A-8506-798D7493D668&amp;match=4627\">ALMERE BV 17</a></strong></td><td align=\"center\">-</td><td class=\"nowrap\"><a class=\"teamname\" href=\"teammatch.aspx?id=F3C6D619-32F6-4C2A-8506-798D7493D668&amp;match=4627\">ZIJDERVELD BV VAN 8</a></td><td><span class=\"score\"><span>7-1</span></span></td><td><a href=\"./location.aspx?id=F3C6D619-32F6-4C2A-8506-798D7493D668&amp;lid=13\">Sportcomplex Raggers (2)</a></td><td></td><td></td><td></td><td></td><td></td><td></td>\n",
       " </tr><tr>\n",
       " <td></td><td align=\"right\" class=\"plannedtime\">za 3-11-2018 <span class=\"time\">18:00</span></td><td align=\"right\">5</td><td align=\"right\">1</td><td></td><td align=\"right\" class=\"nowrap\"><a class=\"teamname\" href=\"teammatch.aspx?id=F3C6D619-32F6-4C2A-8506-798D7493D668&amp;match=4667\">ZIJDERVELD BV VAN 8</a></td><td align=\"center\">-</td><td class=\"nowrap\"><a class=\"teamname\" href=\"teammatch.aspx?id=F3C6D619-32F6-4C2A-8506-798D7493D668&amp;match=4667\">SWISH BV 7</a></td><td></td><td><a href=\"./location.aspx?id=F3C6D619-32F6-4C2A-8506-798D7493D668&amp;lid=525\">Sporthal De Meerkamp (1)</a></td><td></td><td></td><td><img class=\"icon_planningchanged\" id=\"icon_planningchanged_4667\" src=\"../images/icon_planningchanged.gif\" title=\"Wedstrijd verplaatst\"/></td><td></td><td></td><td></td>\n",
       " </tr><tr>\n",
       " <td></td><td align=\"right\" class=\"plannedtime\">zo 4-11-2018 <span class=\"time\">10:00</span></td><td align=\"right\">5</td><td align=\"right\">1</td><td></td><td align=\"right\" class=\"nowrap\"><a class=\"teamname\" href=\"teammatch.aspx?id=F3C6D619-32F6-4C2A-8506-798D7493D668&amp;match=4648\">HILLEGOM BC 7</a></td><td align=\"center\">-</td><td class=\"nowrap\"><a class=\"teamname\" href=\"teammatch.aspx?id=F3C6D619-32F6-4C2A-8506-798D7493D668&amp;match=4648\">ALMERE BV 17</a></td><td></td><td><a href=\"./location.aspx?id=F3C6D619-32F6-4C2A-8506-798D7493D668&amp;lid=210\">Sporthal de Vosse (1)</a></td><td></td><td></td><td></td><td></td><td></td><td></td>\n",
       " </tr><tr>\n",
       " <td></td><td align=\"right\" class=\"plannedtime\">zo 4-11-2018 <span class=\"time\">14:00</span></td><td align=\"right\">5</td><td align=\"right\">1</td><td></td><td align=\"right\" class=\"nowrap\"><a class=\"teamname\" href=\"teammatch.aspx?id=F3C6D619-32F6-4C2A-8506-798D7493D668&amp;match=4659\">SLOTERMEER BV 2</a></td><td align=\"center\">-</td><td class=\"nowrap\"><a class=\"teamname\" href=\"teammatch.aspx?id=F3C6D619-32F6-4C2A-8506-798D7493D668&amp;match=4659\">SPACE SHUTTLE BV 1</a></td><td></td><td><a href=\"./location.aspx?id=F3C6D619-32F6-4C2A-8506-798D7493D668&amp;lid=412\">Laan van Spartaan (1)</a></td><td></td><td></td><td></td><td></td><td></td><td></td>\n",
       " </tr><tr>\n",
       " <td></td><td align=\"right\" class=\"plannedtime\">do 8-11-2018 <span class=\"time\">20:00</span></td><td align=\"right\">6</td><td align=\"right\">1</td><td></td><td align=\"right\" class=\"nowrap\"><a class=\"teamname\" href=\"teammatch.aspx?id=F3C6D619-32F6-4C2A-8506-798D7493D668&amp;match=4671\">IJMOND BC 4</a></td><td align=\"center\">-</td><td class=\"nowrap\"><a class=\"teamname\" href=\"teammatch.aspx?id=F3C6D619-32F6-4C2A-8506-798D7493D668&amp;match=4671\">SWISH BV 7</a></td><td></td><td><a href=\"./location.aspx?id=F3C6D619-32F6-4C2A-8506-798D7493D668&amp;lid=227\">IJmuiden Oost (2)</a></td><td></td><td></td><td></td><td></td><td></td><td></td>\n",
       " </tr><tr>\n",
       " <td></td><td align=\"right\" class=\"plannedtime\">zo 11-11-2018 <span class=\"time\">14:00</span></td><td align=\"right\">6</td><td align=\"right\">1</td><td></td><td align=\"right\" class=\"nowrap\"><a class=\"teamname\" href=\"teammatch.aspx?id=F3C6D619-32F6-4C2A-8506-798D7493D668&amp;match=4645\">SLOTERMEER BV 2</a></td><td align=\"center\">-</td><td class=\"nowrap\"><a class=\"teamname\" href=\"teammatch.aspx?id=F3C6D619-32F6-4C2A-8506-798D7493D668&amp;match=4645\">ALMERE BV 17</a></td><td></td><td><a href=\"./location.aspx?id=F3C6D619-32F6-4C2A-8506-798D7493D668&amp;lid=412\">Laan van Spartaan (1)</a></td><td></td><td></td><td></td><td></td><td></td><td></td>\n",
       " </tr><tr>\n",
       " <td></td><td align=\"right\" class=\"plannedtime\">zo 11-11-2018 <span class=\"time\">14:00</span></td><td align=\"right\">6</td><td align=\"right\">1</td><td></td><td align=\"right\" class=\"nowrap\"><a class=\"teamname\" href=\"teammatch.aspx?id=F3C6D619-32F6-4C2A-8506-798D7493D668&amp;match=4639\">ZIJDERVELD BV VAN 8</a></td><td align=\"center\">-</td><td class=\"nowrap\"><a class=\"teamname\" href=\"teammatch.aspx?id=F3C6D619-32F6-4C2A-8506-798D7493D668&amp;match=4639\">HILLEGOM BC 7</a></td><td></td><td><a href=\"./location.aspx?id=F3C6D619-32F6-4C2A-8506-798D7493D668&amp;lid=525\">Sporthal De Meerkamp (1)</a></td><td></td><td></td><td><img class=\"icon_planningchanged\" id=\"icon_planningchanged_4639\" src=\"../images/icon_planningchanged.gif\" title=\"Wedstrijd verplaatst\"/></td><td></td><td></td><td></td>\n",
       " </tr><tr>\n",
       " <td></td><td align=\"right\" class=\"plannedtime\">zo 18-11-2018 <span class=\"time\">09:30</span></td><td align=\"right\">7</td><td align=\"right\">1</td><td></td><td align=\"right\" class=\"nowrap\"><a class=\"teamname\" href=\"teammatch.aspx?id=F3C6D619-32F6-4C2A-8506-798D7493D668&amp;match=4629\">SPACE SHUTTLE BV 1</a></td><td align=\"center\">-</td><td class=\"nowrap\"><a class=\"teamname\" href=\"teammatch.aspx?id=F3C6D619-32F6-4C2A-8506-798D7493D668&amp;match=4629\">ZIJDERVELD BV VAN 8</a></td><td></td><td><a href=\"./location.aspx?id=F3C6D619-32F6-4C2A-8506-798D7493D668&amp;lid=425\">De Bloemhof (1)</a></td><td></td><td></td><td></td><td></td><td></td><td></td>\n",
       " </tr><tr>\n",
       " <td></td><td align=\"right\" class=\"plannedtime\">zo 18-11-2018 <span class=\"time\">10:00</span></td><td align=\"right\">7</td><td align=\"right\">1</td><td></td><td align=\"right\" class=\"nowrap\"><a class=\"teamname\" href=\"teammatch.aspx?id=F3C6D619-32F6-4C2A-8506-798D7493D668&amp;match=4655\">HILLEGOM BC 7</a></td><td align=\"center\">-</td><td class=\"nowrap\"><a class=\"teamname\" href=\"teammatch.aspx?id=F3C6D619-32F6-4C2A-8506-798D7493D668&amp;match=4655\">IJMOND BC 4</a></td><td></td><td><a href=\"./location.aspx?id=F3C6D619-32F6-4C2A-8506-798D7493D668&amp;lid=210\">Sporthal de Vosse (1)</a></td><td></td><td></td><td></td><td></td><td></td><td></td>\n",
       " </tr><tr>\n",
       " <td></td><td align=\"right\" class=\"plannedtime\">zo 18-11-2018 <span class=\"time\">13:15</span></td><td align=\"right\">7</td><td align=\"right\">1</td><td></td><td align=\"right\" class=\"nowrap\"><a class=\"teamname\" href=\"teammatch.aspx?id=F3C6D619-32F6-4C2A-8506-798D7493D668&amp;match=4623\">SWISH BV 7</a></td><td align=\"center\">-</td><td class=\"nowrap\"><a class=\"teamname\" href=\"teammatch.aspx?id=F3C6D619-32F6-4C2A-8506-798D7493D668&amp;match=4623\">SLOTERMEER BV 2</a></td><td></td><td><a href=\"./location.aspx?id=F3C6D619-32F6-4C2A-8506-798D7493D668&amp;lid=440\">Sportcomplex Trias (1)</a></td><td></td><td></td><td><img class=\"icon_planningchanged\" id=\"icon_planningchanged_4623\" src=\"../images/icon_planningchanged.gif\" title=\"Wedstrijd verplaatst\"/></td><td></td><td></td><td></td>\n",
       " </tr><tr>\n",
       " <td></td><td align=\"right\" class=\"plannedtime\">za 1-12-2018 <span class=\"time\">19:00</span></td><td align=\"right\">8</td><td align=\"right\">2</td><td></td><td align=\"right\" class=\"nowrap\"><a class=\"teamname\" href=\"teammatch.aspx?id=F3C6D619-32F6-4C2A-8506-798D7493D668&amp;match=4663\">ALMERE BV 17</a></td><td align=\"center\">-</td><td class=\"nowrap\"><a class=\"teamname\" href=\"teammatch.aspx?id=F3C6D619-32F6-4C2A-8506-798D7493D668&amp;match=4663\">SPACE SHUTTLE BV 1</a></td><td></td><td><a href=\"./location.aspx?id=F3C6D619-32F6-4C2A-8506-798D7493D668&amp;lid=13\">Sportcomplex Raggers (2)</a></td><td></td><td></td><td><img class=\"icon_planningchanged\" id=\"icon_planningchanged_4663\" src=\"../images/icon_planningchanged.gif\" title=\"Wedstrijd verplaatst\"/></td><td></td><td></td><td></td>\n",
       " </tr><tr>\n",
       " <td></td><td align=\"right\" class=\"plannedtime\">zo 2-12-2018 <span class=\"time\">14:00</span></td><td align=\"right\">8</td><td align=\"right\">2</td><td></td><td align=\"right\" class=\"nowrap\"><a class=\"teamname\" href=\"teammatch.aspx?id=F3C6D619-32F6-4C2A-8506-798D7493D668&amp;match=4653\">ZIJDERVELD BV VAN 8</a></td><td align=\"center\">-</td><td class=\"nowrap\"><a class=\"teamname\" href=\"teammatch.aspx?id=F3C6D619-32F6-4C2A-8506-798D7493D668&amp;match=4653\">IJMOND BC 4</a></td><td></td><td><a href=\"./location.aspx?id=F3C6D619-32F6-4C2A-8506-798D7493D668&amp;lid=525\">Sporthal De Meerkamp (1)</a></td><td></td><td></td><td><img class=\"icon_planningchanged\" id=\"icon_planningchanged_4653\" src=\"../images/icon_planningchanged.gif\" title=\"Wedstrijd verplaatst\"/></td><td></td><td></td><td></td>\n",
       " </tr><tr>\n",
       " <td></td><td align=\"right\" class=\"plannedtime\">zo 2-12-2018 <span class=\"time\">14:00</span></td><td align=\"right\">8</td><td align=\"right\">2</td><td></td><td align=\"right\" class=\"nowrap\"><a class=\"teamname\" href=\"teammatch.aspx?id=F3C6D619-32F6-4C2A-8506-798D7493D668&amp;match=4638\">SLOTERMEER BV 2</a></td><td align=\"center\">-</td><td class=\"nowrap\"><a class=\"teamname\" href=\"teammatch.aspx?id=F3C6D619-32F6-4C2A-8506-798D7493D668&amp;match=4638\">HILLEGOM BC 7</a></td><td></td><td><a href=\"./location.aspx?id=F3C6D619-32F6-4C2A-8506-798D7493D668&amp;lid=412\">Laan van Spartaan (1)</a></td><td></td><td></td><td></td><td></td><td></td><td></td>\n",
       " </tr><tr>\n",
       " <td></td><td align=\"right\" class=\"plannedtime\">do 6-12-2018 <span class=\"time\">20:00</span></td><td align=\"right\">9</td><td align=\"right\">2</td><td></td><td align=\"right\" class=\"nowrap\"><a class=\"teamname\" href=\"teammatch.aspx?id=F3C6D619-32F6-4C2A-8506-798D7493D668&amp;match=4649\">IJMOND BC 4</a></td><td align=\"center\">-</td><td class=\"nowrap\"><a class=\"teamname\" href=\"teammatch.aspx?id=F3C6D619-32F6-4C2A-8506-798D7493D668&amp;match=4649\">ALMERE BV 17</a></td><td></td><td><a href=\"./location.aspx?id=F3C6D619-32F6-4C2A-8506-798D7493D668&amp;lid=227\">IJmuiden Oost (2)</a></td><td></td><td></td><td></td><td></td><td></td><td></td>\n",
       " </tr><tr>\n",
       " <td></td><td align=\"right\" class=\"plannedtime\">za 8-12-2018 <span class=\"time\">18:00</span></td><td align=\"right\">9</td><td align=\"right\">2</td><td></td><td align=\"right\" class=\"nowrap\"><a class=\"teamname\" href=\"teammatch.aspx?id=F3C6D619-32F6-4C2A-8506-798D7493D668&amp;match=4617\">ZIJDERVELD BV VAN 8</a></td><td align=\"center\">-</td><td class=\"nowrap\"><a class=\"teamname\" href=\"teammatch.aspx?id=F3C6D619-32F6-4C2A-8506-798D7493D668&amp;match=4617\">SLOTERMEER BV 2</a></td><td></td><td><a href=\"./location.aspx?id=F3C6D619-32F6-4C2A-8506-798D7493D668&amp;lid=525\">Sporthal De Meerkamp (1)</a></td><td></td><td></td><td><img class=\"icon_planningchanged\" id=\"icon_planningchanged_4617\" src=\"../images/icon_planningchanged.gif\" title=\"Wedstrijd verplaatst\"/></td><td></td><td></td><td></td>\n",
       " </tr><tr>\n",
       " <td></td><td align=\"right\" class=\"plannedtime\">zo 9-12-2018 <span class=\"time\">14:00</span></td><td align=\"right\">9</td><td align=\"right\">2</td><td></td><td align=\"right\" class=\"nowrap\"><a class=\"teamname\" href=\"teammatch.aspx?id=F3C6D619-32F6-4C2A-8506-798D7493D668&amp;match=4665\">SWISH BV 7</a></td><td align=\"center\">-</td><td class=\"nowrap\"><a class=\"teamname\" href=\"teammatch.aspx?id=F3C6D619-32F6-4C2A-8506-798D7493D668&amp;match=4665\">SPACE SHUTTLE BV 1</a></td><td></td><td><a href=\"./location.aspx?id=F3C6D619-32F6-4C2A-8506-798D7493D668&amp;lid=440\">Sportcomplex Trias (1)</a></td><td></td><td></td><td><img class=\"icon_planningchanged\" id=\"icon_planningchanged_4665\" src=\"../images/icon_planningchanged.gif\" title=\"Wedstrijd verplaatst\"/></td><td></td><td></td><td></td>\n",
       " </tr><tr>\n",
       " <td></td><td align=\"right\" class=\"plannedtime\">za 15-12-2018 <span class=\"time\">19:00</span></td><td align=\"right\">10</td><td align=\"right\">2</td><td></td><td align=\"right\" class=\"nowrap\"><a class=\"teamname\" href=\"teammatch.aspx?id=F3C6D619-32F6-4C2A-8506-798D7493D668&amp;match=4670\">ALMERE BV 17</a></td><td align=\"center\">-</td><td class=\"nowrap\"><a class=\"teamname\" href=\"teammatch.aspx?id=F3C6D619-32F6-4C2A-8506-798D7493D668&amp;match=4670\">SWISH BV 7</a></td><td></td><td><a href=\"./location.aspx?id=F3C6D619-32F6-4C2A-8506-798D7493D668&amp;lid=13\">Sportcomplex Raggers (2)</a></td><td></td><td></td><td><img class=\"icon_planningchanged\" id=\"icon_planningchanged_4670\" src=\"../images/icon_planningchanged.gif\" title=\"Wedstrijd verplaatst\"/></td><td></td><td></td><td></td>\n",
       " </tr><tr>\n",
       " <td></td><td align=\"right\" class=\"plannedtime\">zo 16-12-2018 <span class=\"time\">09:30</span></td><td align=\"right\">10</td><td align=\"right\">2</td><td></td><td align=\"right\" class=\"nowrap\"><a class=\"teamname\" href=\"teammatch.aspx?id=F3C6D619-32F6-4C2A-8506-798D7493D668&amp;match=4643\">SPACE SHUTTLE BV 1</a></td><td align=\"center\">-</td><td class=\"nowrap\"><a class=\"teamname\" href=\"teammatch.aspx?id=F3C6D619-32F6-4C2A-8506-798D7493D668&amp;match=4643\">HILLEGOM BC 7</a></td><td></td><td><a href=\"./location.aspx?id=F3C6D619-32F6-4C2A-8506-798D7493D668&amp;lid=425\">De Bloemhof (1)</a></td><td></td><td></td><td></td><td></td><td></td><td></td>\n",
       " </tr><tr>\n",
       " <td></td><td align=\"right\" class=\"plannedtime\">zo 16-12-2018 <span class=\"time\">14:00</span></td><td align=\"right\">10</td><td align=\"right\">2</td><td></td><td align=\"right\" class=\"nowrap\"><a class=\"teamname\" href=\"teammatch.aspx?id=F3C6D619-32F6-4C2A-8506-798D7493D668&amp;match=4652\">SLOTERMEER BV 2</a></td><td align=\"center\">-</td><td class=\"nowrap\"><a class=\"teamname\" href=\"teammatch.aspx?id=F3C6D619-32F6-4C2A-8506-798D7493D668&amp;match=4652\">IJMOND BC 4</a></td><td></td><td><a href=\"./location.aspx?id=F3C6D619-32F6-4C2A-8506-798D7493D668&amp;lid=412\">Laan van Spartaan (1)</a></td><td></td><td></td><td></td><td></td><td></td><td></td>\n",
       " </tr><tr>\n",
       " <td></td><td align=\"right\" class=\"plannedtime\">do 10-1-2019 <span class=\"time\">20:00</span></td><td align=\"right\">11</td><td align=\"right\">2</td><td></td><td align=\"right\" class=\"nowrap\"><a class=\"teamname\" href=\"teammatch.aspx?id=F3C6D619-32F6-4C2A-8506-798D7493D668&amp;match=4664\">IJMOND BC 4</a></td><td align=\"center\">-</td><td class=\"nowrap\"><a class=\"teamname\" href=\"teammatch.aspx?id=F3C6D619-32F6-4C2A-8506-798D7493D668&amp;match=4664\">SPACE SHUTTLE BV 1</a></td><td></td><td><a href=\"./location.aspx?id=F3C6D619-32F6-4C2A-8506-798D7493D668&amp;lid=227\">IJmuiden Oost (2)</a></td><td></td><td></td><td></td><td></td><td></td><td></td>\n",
       " </tr><tr>\n",
       " <td></td><td align=\"right\" class=\"plannedtime\">zo 13-1-2019 <span class=\"time\">10:00</span></td><td align=\"right\">11</td><td align=\"right\">2</td><td></td><td align=\"right\" class=\"nowrap\"><a class=\"teamname\" href=\"teammatch.aspx?id=F3C6D619-32F6-4C2A-8506-798D7493D668&amp;match=4669\">HILLEGOM BC 7</a></td><td align=\"center\">-</td><td class=\"nowrap\"><a class=\"teamname\" href=\"teammatch.aspx?id=F3C6D619-32F6-4C2A-8506-798D7493D668&amp;match=4669\">SWISH BV 7</a></td><td></td><td><a href=\"./location.aspx?id=F3C6D619-32F6-4C2A-8506-798D7493D668&amp;lid=210\">Sporthal de Vosse (1)</a></td><td></td><td></td><td></td><td></td><td></td><td></td>\n",
       " </tr><tr>\n",
       " <td></td><td align=\"right\" class=\"plannedtime\">zo 13-1-2019 <span class=\"time\">13:30</span></td><td align=\"right\">11</td><td align=\"right\">2</td><td></td><td align=\"right\" class=\"nowrap\"><a class=\"teamname\" href=\"teammatch.aspx?id=F3C6D619-32F6-4C2A-8506-798D7493D668&amp;match=4646\">ZIJDERVELD BV VAN 8</a></td><td align=\"center\">-</td><td class=\"nowrap\"><a class=\"teamname\" href=\"teammatch.aspx?id=F3C6D619-32F6-4C2A-8506-798D7493D668&amp;match=4646\">ALMERE BV 17</a></td><td></td><td><a href=\"./location.aspx?id=F3C6D619-32F6-4C2A-8506-798D7493D668&amp;lid=525\">Sporthal De Meerkamp (1)</a></td><td></td><td></td><td></td><td></td><td></td><td></td>\n",
       " </tr><tr>\n",
       " <td></td><td align=\"right\" class=\"plannedtime\">zo 20-1-2019 <span class=\"time\">09:30</span></td><td align=\"right\">12</td><td align=\"right\">2</td><td></td><td align=\"right\" class=\"nowrap\"><a class=\"teamname\" href=\"teammatch.aspx?id=F3C6D619-32F6-4C2A-8506-798D7493D668&amp;match=4620\">ALMERE BV 17</a></td><td align=\"center\">-</td><td class=\"nowrap\"><a class=\"teamname\" href=\"teammatch.aspx?id=F3C6D619-32F6-4C2A-8506-798D7493D668&amp;match=4620\">SLOTERMEER BV 2</a></td><td></td><td><a href=\"./location.aspx?id=F3C6D619-32F6-4C2A-8506-798D7493D668&amp;lid=13\">Sportcomplex Raggers (2)</a></td><td></td><td></td><td><img class=\"icon_planningchanged\" id=\"icon_planningchanged_4620\" src=\"../images/icon_planningchanged.gif\" title=\"Wedstrijd verplaatst\"/></td><td></td><td></td><td></td>\n",
       " </tr><tr>\n",
       " <td></td><td align=\"right\" class=\"plannedtime\">zo 20-1-2019 <span class=\"time\">10:00</span></td><td align=\"right\">12</td><td align=\"right\">2</td><td></td><td align=\"right\" class=\"nowrap\"><a class=\"teamname\" href=\"teammatch.aspx?id=F3C6D619-32F6-4C2A-8506-798D7493D668&amp;match=4626\">HILLEGOM BC 7</a></td><td align=\"center\">-</td><td class=\"nowrap\"><a class=\"teamname\" href=\"teammatch.aspx?id=F3C6D619-32F6-4C2A-8506-798D7493D668&amp;match=4626\">ZIJDERVELD BV VAN 8</a></td><td></td><td><a href=\"./location.aspx?id=F3C6D619-32F6-4C2A-8506-798D7493D668&amp;lid=210\">Sporthal de Vosse (1)</a></td><td></td><td></td><td></td><td></td><td></td><td></td>\n",
       " </tr><tr>\n",
       " <td></td><td align=\"right\" class=\"plannedtime\">zo 20-1-2019 <span class=\"time\">12:45</span></td><td align=\"right\">12</td><td align=\"right\">2</td><td></td><td align=\"right\" class=\"nowrap\"><a class=\"teamname\" href=\"teammatch.aspx?id=F3C6D619-32F6-4C2A-8506-798D7493D668&amp;match=4658\">SWISH BV 7</a></td><td align=\"center\">-</td><td class=\"nowrap\"><a class=\"teamname\" href=\"teammatch.aspx?id=F3C6D619-32F6-4C2A-8506-798D7493D668&amp;match=4658\">IJMOND BC 4</a></td><td></td><td><a href=\"./location.aspx?id=F3C6D619-32F6-4C2A-8506-798D7493D668&amp;lid=440\">Sportcomplex Trias (1)</a></td><td></td><td></td><td><img class=\"icon_planningchanged\" id=\"icon_planningchanged_4658\" src=\"../images/icon_planningchanged.gif\" title=\"Wedstrijd verplaatst\"/></td><td></td><td></td><td></td>\n",
       " </tr><tr>\n",
       " <td></td><td align=\"right\" class=\"plannedtime\">do 24-1-2019 <span class=\"time\">20:00</span></td><td align=\"right\">13</td><td align=\"right\">2</td><td></td><td align=\"right\" class=\"nowrap\"><a class=\"teamname\" href=\"teammatch.aspx?id=F3C6D619-32F6-4C2A-8506-798D7493D668&amp;match=4642\">IJMOND BC 4</a></td><td align=\"center\">-</td><td class=\"nowrap\"><a class=\"teamname\" href=\"teammatch.aspx?id=F3C6D619-32F6-4C2A-8506-798D7493D668&amp;match=4642\">HILLEGOM BC 7</a></td><td></td><td><a href=\"./location.aspx?id=F3C6D619-32F6-4C2A-8506-798D7493D668&amp;lid=227\">IJmuiden Oost (2)</a></td><td></td><td></td><td></td><td></td><td></td><td></td>\n",
       " </tr><tr>\n",
       " <td></td><td align=\"right\" class=\"plannedtime\">zo 27-1-2019 <span class=\"time\">14:00</span></td><td align=\"right\">13</td><td align=\"right\">2</td><td></td><td align=\"right\" class=\"nowrap\"><a class=\"teamname\" href=\"teammatch.aspx?id=F3C6D619-32F6-4C2A-8506-798D7493D668&amp;match=4666\">SLOTERMEER BV 2</a></td><td align=\"center\">-</td><td class=\"nowrap\"><a class=\"teamname\" href=\"teammatch.aspx?id=F3C6D619-32F6-4C2A-8506-798D7493D668&amp;match=4666\">SWISH BV 7</a></td><td></td><td><a href=\"./location.aspx?id=F3C6D619-32F6-4C2A-8506-798D7493D668&amp;lid=412\">Laan van Spartaan (1)</a></td><td></td><td></td><td></td><td></td><td></td><td></td>\n",
       " </tr><tr>\n",
       " <td></td><td align=\"right\" class=\"plannedtime\">zo 27-1-2019 <span class=\"time\">14:00</span></td><td align=\"right\">13</td><td align=\"right\">2</td><td></td><td align=\"right\" class=\"nowrap\"><a class=\"teamname\" href=\"teammatch.aspx?id=F3C6D619-32F6-4C2A-8506-798D7493D668&amp;match=4660\">ZIJDERVELD BV VAN 8</a></td><td align=\"center\">-</td><td class=\"nowrap\"><a class=\"teamname\" href=\"teammatch.aspx?id=F3C6D619-32F6-4C2A-8506-798D7493D668&amp;match=4660\">SPACE SHUTTLE BV 1</a></td><td></td><td><a href=\"./location.aspx?id=F3C6D619-32F6-4C2A-8506-798D7493D668&amp;lid=525\">Sporthal De Meerkamp (1)</a></td><td></td><td></td><td><img class=\"icon_planningchanged\" id=\"icon_planningchanged_4660\" src=\"../images/icon_planningchanged.gif\" title=\"Wedstrijd verplaatst\"/></td><td></td><td></td><td></td>\n",
       " </tr><tr>\n",
       " <td></td><td align=\"right\" class=\"plannedtime\">za 9-2-2019 <span class=\"time\">19:00</span></td><td align=\"right\">14</td><td align=\"right\">2</td><td></td><td align=\"right\" class=\"nowrap\"><a class=\"teamname\" href=\"teammatch.aspx?id=F3C6D619-32F6-4C2A-8506-798D7493D668&amp;match=4641\">ALMERE BV 17</a></td><td align=\"center\">-</td><td class=\"nowrap\"><a class=\"teamname\" href=\"teammatch.aspx?id=F3C6D619-32F6-4C2A-8506-798D7493D668&amp;match=4641\">HILLEGOM BC 7</a></td><td></td><td><a href=\"./location.aspx?id=F3C6D619-32F6-4C2A-8506-798D7493D668&amp;lid=13\">Sportcomplex Raggers (2)</a></td><td></td><td></td><td><img class=\"icon_planningchanged\" id=\"icon_planningchanged_4641\" src=\"../images/icon_planningchanged.gif\" title=\"Wedstrijd verplaatst\"/></td><td></td><td></td><td></td>\n",
       " </tr><tr>\n",
       " <td></td><td align=\"right\" class=\"plannedtime\">zo 10-2-2019 <span class=\"time\">09:30</span></td><td align=\"right\">14</td><td align=\"right\">2</td><td></td><td align=\"right\" class=\"nowrap\"><a class=\"teamname\" href=\"teammatch.aspx?id=F3C6D619-32F6-4C2A-8506-798D7493D668&amp;match=4622\">SPACE SHUTTLE BV 1</a></td><td align=\"center\">-</td><td class=\"nowrap\"><a class=\"teamname\" href=\"teammatch.aspx?id=F3C6D619-32F6-4C2A-8506-798D7493D668&amp;match=4622\">SLOTERMEER BV 2</a></td><td></td><td><a href=\"./location.aspx?id=F3C6D619-32F6-4C2A-8506-798D7493D668&amp;lid=425\">De Bloemhof (1)</a></td><td></td><td></td><td></td><td></td><td></td><td></td>\n",
       " </tr><tr>\n",
       " <td></td><td align=\"right\" class=\"plannedtime\">zo 10-2-2019 <span class=\"time\">14:00</span></td><td align=\"right\">14</td><td align=\"right\">2</td><td></td><td align=\"right\" class=\"nowrap\"><a class=\"teamname\" href=\"teammatch.aspx?id=F3C6D619-32F6-4C2A-8506-798D7493D668&amp;match=4630\">SWISH BV 7</a></td><td align=\"center\">-</td><td class=\"nowrap\"><a class=\"teamname\" href=\"teammatch.aspx?id=F3C6D619-32F6-4C2A-8506-798D7493D668&amp;match=4630\">ZIJDERVELD BV VAN 8</a></td><td></td><td><a href=\"./location.aspx?id=F3C6D619-32F6-4C2A-8506-798D7493D668&amp;lid=440\">Sportcomplex Trias (1)</a></td><td></td><td></td><td><img class=\"icon_planningchanged\" id=\"icon_planningchanged_4630\" src=\"../images/icon_planningchanged.gif\" title=\"Wedstrijd verplaatst\"/></td><td></td><td></td><td></td>\n",
       " </tr>\n",
       " </tbody>\n",
       " </table>]"
      ]
     },
     "execution_count": 10,
     "metadata": {},
     "output_type": "execute_result"
    }
   ],
   "source": [
    "table = soup.findAll('table', {\"class\": \"ruler matches\"}, 'tr')\n",
    "table"
   ]
  },
  {
   "cell_type": "code",
   "execution_count": 15,
   "metadata": {},
   "outputs": [
    {
     "data": {
      "text/plain": [
       "bs4.element.ResultSet"
      ]
     },
     "execution_count": 15,
     "metadata": {},
     "output_type": "execute_result"
    }
   ],
   "source": [
    "type(table)"
   ]
  },
  {
   "cell_type": "code",
   "execution_count": 58,
   "metadata": {},
   "outputs": [
    {
     "data": {
      "text/plain": [
       "<tr>\n",
       "<td></td><td align=\"right\" class=\"plannedtime\">zo 23-9-2018 <span class=\"time\">09:30</span></td><td align=\"right\">2</td><td align=\"right\">1</td><td></td><td align=\"right\" class=\"nowrap\"><strong><a class=\"teamname\" href=\"teammatch.aspx?id=F3C6D619-32F6-4C2A-8506-798D7493D668&amp;match=4672\">SPACE SHUTTLE BV 1</a></strong></td><td align=\"center\">-</td><td class=\"nowrap\"><a class=\"teamname\" href=\"teammatch.aspx?id=F3C6D619-32F6-4C2A-8506-798D7493D668&amp;match=4672\">SWISH BV 7</a></td><td><span class=\"score\"><span>5-3</span></span></td><td><a href=\"./location.aspx?id=F3C6D619-32F6-4C2A-8506-798D7493D668&amp;lid=425\">De Bloemhof (1)</a></td><td></td><td></td><td></td><td></td><td></td><td></td>\n",
       "</tr>"
      ]
     },
     "execution_count": 58,
     "metadata": {},
     "output_type": "execute_result"
    }
   ],
   "source": [
    "rows = soup.table.findAll('tr')[5]\n",
    "rows"
   ]
  },
  {
   "cell_type": "code",
   "execution_count": 59,
   "metadata": {},
   "outputs": [
    {
     "data": {
      "text/plain": [
       "[<td></td>,\n",
       " <td align=\"right\" class=\"plannedtime\">zo 23-9-2018 <span class=\"time\">09:30</span></td>,\n",
       " <td align=\"right\">2</td>,\n",
       " <td align=\"right\">1</td>,\n",
       " <td></td>,\n",
       " <td align=\"right\" class=\"nowrap\"><strong><a class=\"teamname\" href=\"teammatch.aspx?id=F3C6D619-32F6-4C2A-8506-798D7493D668&amp;match=4672\">SPACE SHUTTLE BV 1</a></strong></td>,\n",
       " <td align=\"center\">-</td>,\n",
       " <td class=\"nowrap\"><a class=\"teamname\" href=\"teammatch.aspx?id=F3C6D619-32F6-4C2A-8506-798D7493D668&amp;match=4672\">SWISH BV 7</a></td>,\n",
       " <td><span class=\"score\"><span>5-3</span></span></td>,\n",
       " <td><a href=\"./location.aspx?id=F3C6D619-32F6-4C2A-8506-798D7493D668&amp;lid=425\">De Bloemhof (1)</a></td>,\n",
       " <td></td>,\n",
       " <td></td>,\n",
       " <td></td>,\n",
       " <td></td>,\n",
       " <td></td>,\n",
       " <td></td>]"
      ]
     },
     "execution_count": 59,
     "metadata": {},
     "output_type": "execute_result"
    }
   ],
   "source": [
    "col = rows.findAll('td')\n",
    "col    "
   ]
  },
  {
   "cell_type": "code",
   "execution_count": 60,
   "metadata": {},
   "outputs": [
    {
     "data": {
      "text/plain": [
       "'zo 23-9-2018 09:30'"
      ]
     },
     "execution_count": 60,
     "metadata": {},
     "output_type": "execute_result"
    }
   ],
   "source": [
    "time = rows.find('td', {\"class\":\"plannedtime\"}).get_text()\n",
    "time"
   ]
  },
  {
   "cell_type": "code",
   "execution_count": 61,
   "metadata": {},
   "outputs": [
    {
     "data": {
      "text/plain": [
       "('SPACE SHUTTLE BV 1', 'SWISH BV 7')"
      ]
     },
     "execution_count": 61,
     "metadata": {},
     "output_type": "execute_result"
    }
   ],
   "source": [
    "home = rows.findAll('a', {\"class\":\"teamname\"})[0].get_text()\n",
    "away = rows.findAll('a', {\"class\":\"teamname\"})[1].get_text()\n",
    "home, away"
   ]
  },
  {
   "cell_type": "code",
   "execution_count": 62,
   "metadata": {},
   "outputs": [
    {
     "data": {
      "text/plain": [
       "'5-3'"
      ]
     },
     "execution_count": 62,
     "metadata": {},
     "output_type": "execute_result"
    }
   ],
   "source": [
    "try:\n",
    "    score = rows.find('span', {\"class\":\"score\"}).get_text()\n",
    "except:\n",
    "    score = \"\"\n",
    "score"
   ]
  },
  {
   "cell_type": "code",
   "execution_count": 78,
   "metadata": {},
   "outputs": [
    {
     "data": {
      "text/plain": [
       "'./location.aspx?id=F3C6D619-32F6-4C2A-8506-798D7493D668&lid=425'"
      ]
     },
     "execution_count": 78,
     "metadata": {},
     "output_type": "execute_result"
    }
   ],
   "source": [
    "location_link = rows.findAll('a')[-1]['href']\n",
    "location_link"
   ]
  }
 ],
 "metadata": {
  "kernelspec": {
   "display_name": "Python 3",
   "language": "python",
   "name": "python3"
  },
  "language_info": {
   "codemirror_mode": {
    "name": "ipython",
    "version": 3
   },
   "file_extension": ".py",
   "mimetype": "text/x-python",
   "name": "python",
   "nbconvert_exporter": "python",
   "pygments_lexer": "ipython3",
   "version": "3.6.5"
  }
 },
 "nbformat": 4,
 "nbformat_minor": 2
}
